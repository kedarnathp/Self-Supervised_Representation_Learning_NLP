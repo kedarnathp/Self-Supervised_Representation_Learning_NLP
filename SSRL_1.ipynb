{
 "cells": [
  {
   "cell_type": "markdown",
   "id": "b69b71b8",
   "metadata": {},
   "source": [
    "# Self-Supervised Representation Learning"
   ]
  },
  {
   "cell_type": "markdown",
   "id": "6527dc51",
   "metadata": {},
   "source": [
    "##  (a) Fine-tuning the BERT model on IMDB dataset for Sentiment classification"
   ]
  },
  {
   "cell_type": "code",
   "execution_count": 1,
   "id": "b7f78146",
   "metadata": {},
   "outputs": [],
   "source": [
    "import sys\n",
    "import gc\n",
    "import re\n",
    "import warnings\n",
    "warnings.filterwarnings('ignore')\n",
    "\n",
    "import pandas as pd\n",
    "import numpy as np\n",
    "\n",
    "import torch\n",
    "from torch.utils.data import DataLoader\n",
    "import torchinfo\n",
    "\n",
    "import transformers\n",
    "from transformers import pipeline\n",
    "from transformers import AutoModel, AutoTokenizer\n",
    "from transformers import BertTokenizer, BertForSequenceClassification, BertConfig\n",
    "from transformers import AdamW, get_linear_schedule_with_warmup\n",
    "transformers.logging.set_verbosity('CRITICAL')\n",
    "\n",
    "from tqdm import tqdm\n",
    "tqdm.pandas()\n",
    "\n",
    "from bs4 import BeautifulSoup\n",
    "import re\n",
    "\n",
    "from sklearn.model_selection import train_test_split\n",
    "from sklearn.metrics import confusion_matrix\n",
    "\n",
    "import seaborn as sns\n",
    "import matplotlib.pyplot as plt\n",
    "\n"
   ]
  },
  {
   "cell_type": "code",
   "execution_count": 2,
   "id": "8ebe029c",
   "metadata": {},
   "outputs": [
    {
     "data": {
      "text/html": [
       "<div>\n",
       "<style scoped>\n",
       "    .dataframe tbody tr th:only-of-type {\n",
       "        vertical-align: middle;\n",
       "    }\n",
       "\n",
       "    .dataframe tbody tr th {\n",
       "        vertical-align: top;\n",
       "    }\n",
       "\n",
       "    .dataframe thead th {\n",
       "        text-align: right;\n",
       "    }\n",
       "</style>\n",
       "<table border=\"1\" class=\"dataframe\">\n",
       "  <thead>\n",
       "    <tr style=\"text-align: right;\">\n",
       "      <th></th>\n",
       "      <th>review</th>\n",
       "      <th>sentiment</th>\n",
       "    </tr>\n",
       "  </thead>\n",
       "  <tbody>\n",
       "    <tr>\n",
       "      <th>11841</th>\n",
       "      <td>John Cassavetes is on the run from the law. He...</td>\n",
       "      <td>positive</td>\n",
       "    </tr>\n",
       "    <tr>\n",
       "      <th>19602</th>\n",
       "      <td>It's not just that the movie is lame. It's mor...</td>\n",
       "      <td>negative</td>\n",
       "    </tr>\n",
       "    <tr>\n",
       "      <th>45519</th>\n",
       "      <td>Well, if it weren't for Ethel Waters and a 7-y...</td>\n",
       "      <td>negative</td>\n",
       "    </tr>\n",
       "    <tr>\n",
       "      <th>25747</th>\n",
       "      <td>I find Alan Jacobs review very accurate concer...</td>\n",
       "      <td>positive</td>\n",
       "    </tr>\n",
       "    <tr>\n",
       "      <th>42642</th>\n",
       "      <td>This movie is simply awesome. It is so hilario...</td>\n",
       "      <td>positive</td>\n",
       "    </tr>\n",
       "  </tbody>\n",
       "</table>\n",
       "</div>"
      ],
      "text/plain": [
       "                                                  review sentiment\n",
       "11841  John Cassavetes is on the run from the law. He...  positive\n",
       "19602  It's not just that the movie is lame. It's mor...  negative\n",
       "45519  Well, if it weren't for Ethel Waters and a 7-y...  negative\n",
       "25747  I find Alan Jacobs review very accurate concer...  positive\n",
       "42642  This movie is simply awesome. It is so hilario...  positive"
      ]
     },
     "execution_count": 2,
     "metadata": {},
     "output_type": "execute_result"
    }
   ],
   "source": [
    "imdb_df = pd.read_csv('IMDB_Dataset.csv')\n",
    "\n",
    "# Remove rows with missing values from the data\n",
    "imdb_df = imdb_df.dropna()\n",
    "\n",
    "imdb_df.sample(5, random_state=0)"
   ]
  },
  {
   "cell_type": "code",
   "execution_count": 3,
   "id": "3ac62133",
   "metadata": {},
   "outputs": [
    {
     "name": "stdout",
     "output_type": "stream",
     "text": [
      "Encoded sentiment values: {'positive': 0, 'negative': 1}\n"
     ]
    }
   ],
   "source": [
    "# Encode the sentiment labels by assigning an integer value for each unique category value\n",
    "\n",
    "idx_to_sentiment = {k: v for k, v in enumerate(imdb_df['sentiment'].unique())}\n",
    "sentiment_to_idx = {v: k for k, v in idx_to_sentiment.items()}\n",
    "print(f'Encoded sentiment values: {sentiment_to_idx}')"
   ]
  },
  {
   "cell_type": "code",
   "execution_count": 4,
   "id": "3cd93734",
   "metadata": {},
   "outputs": [
    {
     "data": {
      "text/html": [
       "<div>\n",
       "<style scoped>\n",
       "    .dataframe tbody tr th:only-of-type {\n",
       "        vertical-align: middle;\n",
       "    }\n",
       "\n",
       "    .dataframe tbody tr th {\n",
       "        vertical-align: top;\n",
       "    }\n",
       "\n",
       "    .dataframe thead th {\n",
       "        text-align: right;\n",
       "    }\n",
       "</style>\n",
       "<table border=\"1\" class=\"dataframe\">\n",
       "  <thead>\n",
       "    <tr style=\"text-align: right;\">\n",
       "      <th></th>\n",
       "      <th>review</th>\n",
       "      <th>sentiment</th>\n",
       "      <th>label</th>\n",
       "    </tr>\n",
       "  </thead>\n",
       "  <tbody>\n",
       "    <tr>\n",
       "      <th>11841</th>\n",
       "      <td>John Cassavetes is on the run from the law. He...</td>\n",
       "      <td>positive</td>\n",
       "      <td>tensor(0)</td>\n",
       "    </tr>\n",
       "    <tr>\n",
       "      <th>19602</th>\n",
       "      <td>It's not just that the movie is lame. It's mor...</td>\n",
       "      <td>negative</td>\n",
       "      <td>tensor(1)</td>\n",
       "    </tr>\n",
       "    <tr>\n",
       "      <th>45519</th>\n",
       "      <td>Well, if it weren't for Ethel Waters and a 7-y...</td>\n",
       "      <td>negative</td>\n",
       "      <td>tensor(1)</td>\n",
       "    </tr>\n",
       "    <tr>\n",
       "      <th>25747</th>\n",
       "      <td>I find Alan Jacobs review very accurate concer...</td>\n",
       "      <td>positive</td>\n",
       "      <td>tensor(0)</td>\n",
       "    </tr>\n",
       "    <tr>\n",
       "      <th>42642</th>\n",
       "      <td>This movie is simply awesome. It is so hilario...</td>\n",
       "      <td>positive</td>\n",
       "      <td>tensor(0)</td>\n",
       "    </tr>\n",
       "  </tbody>\n",
       "</table>\n",
       "</div>"
      ],
      "text/plain": [
       "                                                  review sentiment      label\n",
       "11841  John Cassavetes is on the run from the law. He...  positive  tensor(0)\n",
       "19602  It's not just that the movie is lame. It's mor...  negative  tensor(1)\n",
       "45519  Well, if it weren't for Ethel Waters and a 7-y...  negative  tensor(1)\n",
       "25747  I find Alan Jacobs review very accurate concer...  positive  tensor(0)\n",
       "42642  This movie is simply awesome. It is so hilario...  positive  tensor(0)"
      ]
     },
     "execution_count": 4,
     "metadata": {},
     "output_type": "execute_result"
    }
   ],
   "source": [
    "imdb_df['label'] = imdb_df['sentiment'].apply(lambda x: sentiment_to_idx[x])\n",
    "imdb_df['label'] = imdb_df['label'].apply(lambda x: torch.tensor(x))\n",
    "imdb_df.sample(5, random_state=0)"
   ]
  },
  {
   "cell_type": "code",
   "execution_count": 5,
   "id": "6825ede5",
   "metadata": {},
   "outputs": [],
   "source": [
    "#  Define the function for text cleanup(preprocess)\n",
    "\n",
    "def preprocess(text: str):\n",
    "    \"\"\"\n",
    "    Cleans(preprocesses) the reviews text before tokenizing it\n",
    "    ----------\n",
    "    text (str): raw review text data\n",
    "    \"\"\"\n",
    "    emojis = r'[\\U0001F600-\\U0001F64F'\\\n",
    "           + r'\\U0001F300-\\U0001F5FF'\\\n",
    "           + r'\\U0001F680-\\U0001F6FF'\\\n",
    "           + r'\\U0001F1E0-\\U0001F1FF'\\\n",
    "           + r'\\U00002702-\\U000027B0'\\\n",
    "           + r'\\U000024C2-\\U0001F251]+'\n",
    "    non_ASCII = r'[^\\x00-\\x7F]+'\n",
    "    mentions = r'@[A-Za-z0-9_-]+'\n",
    "    urls = r'https?://[A-Za-z0-9./]+'\n",
    "    punctuation = r'[.,#!$%\\^&\\*;:{}=\\-_`~()]'\n",
    "    punctuation_space = r'[\\/\\\\]'\n",
    "    whitespace = r'\\s+'\n",
    "    \n",
    "    # The text sometimes contains html elements, clean it up \n",
    "    soup = BeautifulSoup(text, 'lxml')\n",
    "    text = soup.get_text()\n",
    "\n",
    "    # Replace all non-ASCII characters with space\n",
    "    text = re.sub(non_ASCII, ' ', text)\n",
    "    # Replace all emojis with space\n",
    "    text = re.sub(emojis, ' ', text)\n",
    "    # Remove Twitter mentions with usernames\n",
    "    text = re.sub(mentions, '', text)\n",
    "    # Remove all urls\n",
    "    text = re.sub(urls, '', text)\n",
    "    # Remove the punctuation marks\n",
    "    text = re.sub(punctuation, '', text)\n",
    "    # Removing some punctuation marks will fuse the words,\n",
    "    # replace them with space instead\n",
    "    text = re.sub(punctuation_space, ' ', text)\n",
    "    # Remove multiple spaces, tabs and other whitespaces with one space\n",
    "    text = re.sub(whitespace, ' ', text)\n",
    "\n",
    "    # Convert text to lower case\n",
    "    text = text.lower()\n",
    "    return text"
   ]
  },
  {
   "cell_type": "code",
   "execution_count": 6,
   "id": "5c9de207",
   "metadata": {},
   "outputs": [
    {
     "name": "stderr",
     "output_type": "stream",
     "text": [
      "100%|████████████████████████████████████████████████████████████████████████████| 50000/50000 [01:02<00:00, 794.62it/s]\n"
     ]
    },
    {
     "data": {
      "text/html": [
       "<div>\n",
       "<style scoped>\n",
       "    .dataframe tbody tr th:only-of-type {\n",
       "        vertical-align: middle;\n",
       "    }\n",
       "\n",
       "    .dataframe tbody tr th {\n",
       "        vertical-align: top;\n",
       "    }\n",
       "\n",
       "    .dataframe thead th {\n",
       "        text-align: right;\n",
       "    }\n",
       "</style>\n",
       "<table border=\"1\" class=\"dataframe\">\n",
       "  <thead>\n",
       "    <tr style=\"text-align: right;\">\n",
       "      <th></th>\n",
       "      <th>review</th>\n",
       "      <th>sentiment</th>\n",
       "      <th>label</th>\n",
       "      <th>review_preprocessed</th>\n",
       "    </tr>\n",
       "  </thead>\n",
       "  <tbody>\n",
       "    <tr>\n",
       "      <th>11841</th>\n",
       "      <td>John Cassavetes is on the run from the law. He...</td>\n",
       "      <td>positive</td>\n",
       "      <td>tensor(0)</td>\n",
       "      <td>john cassavetes is on the run from the law he ...</td>\n",
       "    </tr>\n",
       "    <tr>\n",
       "      <th>19602</th>\n",
       "      <td>It's not just that the movie is lame. It's mor...</td>\n",
       "      <td>negative</td>\n",
       "      <td>tensor(1)</td>\n",
       "      <td>it's not just that the movie is lame it's more...</td>\n",
       "    </tr>\n",
       "    <tr>\n",
       "      <th>45519</th>\n",
       "      <td>Well, if it weren't for Ethel Waters and a 7-y...</td>\n",
       "      <td>negative</td>\n",
       "      <td>tensor(1)</td>\n",
       "      <td>well if it weren't for ethel waters and a 7yea...</td>\n",
       "    </tr>\n",
       "    <tr>\n",
       "      <th>25747</th>\n",
       "      <td>I find Alan Jacobs review very accurate concer...</td>\n",
       "      <td>positive</td>\n",
       "      <td>tensor(0)</td>\n",
       "      <td>i find alan jacobs review very accurate concer...</td>\n",
       "    </tr>\n",
       "    <tr>\n",
       "      <th>42642</th>\n",
       "      <td>This movie is simply awesome. It is so hilario...</td>\n",
       "      <td>positive</td>\n",
       "      <td>tensor(0)</td>\n",
       "      <td>this movie is simply awesome it is so hilariou...</td>\n",
       "    </tr>\n",
       "  </tbody>\n",
       "</table>\n",
       "</div>"
      ],
      "text/plain": [
       "                                                  review sentiment      label   \n",
       "11841  John Cassavetes is on the run from the law. He...  positive  tensor(0)  \\\n",
       "19602  It's not just that the movie is lame. It's mor...  negative  tensor(1)   \n",
       "45519  Well, if it weren't for Ethel Waters and a 7-y...  negative  tensor(1)   \n",
       "25747  I find Alan Jacobs review very accurate concer...  positive  tensor(0)   \n",
       "42642  This movie is simply awesome. It is so hilario...  positive  tensor(0)   \n",
       "\n",
       "                                     review_preprocessed  \n",
       "11841  john cassavetes is on the run from the law he ...  \n",
       "19602  it's not just that the movie is lame it's more...  \n",
       "45519  well if it weren't for ethel waters and a 7yea...  \n",
       "25747  i find alan jacobs review very accurate concer...  \n",
       "42642  this movie is simply awesome it is so hilariou...  "
      ]
     },
     "execution_count": 6,
     "metadata": {},
     "output_type": "execute_result"
    }
   ],
   "source": [
    "# create new column after preprocess\n",
    "imdb_df['review_preprocessed'] = imdb_df['review'].progress_apply(preprocess)\n",
    "imdb_df.sample(5, random_state=0)"
   ]
  },
  {
   "cell_type": "code",
   "execution_count": 7,
   "id": "c3829661",
   "metadata": {},
   "outputs": [],
   "source": [
    "# Load the BERT tokenizer to convert our text into tokens that correspond to BERT vocabulary\n",
    "\n",
    "tokenizer = BertTokenizer.from_pretrained('bert-base-uncased', do_lower_case=True)"
   ]
  },
  {
   "cell_type": "code",
   "execution_count": 8,
   "id": "539abce1",
   "metadata": {},
   "outputs": [],
   "source": [
    "def get_tokens(text: str):\n",
    "    \"\"\"\n",
    "    Tokenizes the cleaned(preprocessed) up text using the defined BERT tokenizer\n",
    "    ----------\n",
    "    text (str): cleaned review text data\n",
    "    \"\"\"\n",
    "    encoded_dict = tokenizer.encode_plus(text,\n",
    "                                         add_special_tokens=True,\n",
    "                                         truncation=True,\n",
    "                                         max_length=256,\n",
    "                                         padding='max_length',\n",
    "                                         return_attention_mask=True,\n",
    "                                         return_tensors='pt')\n",
    "    input_ids = encoded_dict['input_ids'].squeeze(0)\n",
    "    attention_mask = encoded_dict['attention_mask'].squeeze(0)\n",
    "    return input_ids, attention_mask"
   ]
  },
  {
   "cell_type": "code",
   "execution_count": 9,
   "id": "8886129c",
   "metadata": {},
   "outputs": [
    {
     "name": "stderr",
     "output_type": "stream",
     "text": [
      "100%|█████████████████████████████████████████████████████████████████████████████| 50000/50000 [10:29<00:00, 79.42it/s]\n"
     ]
    },
    {
     "data": {
      "text/html": [
       "<div>\n",
       "<style scoped>\n",
       "    .dataframe tbody tr th:only-of-type {\n",
       "        vertical-align: middle;\n",
       "    }\n",
       "\n",
       "    .dataframe tbody tr th {\n",
       "        vertical-align: top;\n",
       "    }\n",
       "\n",
       "    .dataframe thead th {\n",
       "        text-align: right;\n",
       "    }\n",
       "</style>\n",
       "<table border=\"1\" class=\"dataframe\">\n",
       "  <thead>\n",
       "    <tr style=\"text-align: right;\">\n",
       "      <th></th>\n",
       "      <th>review</th>\n",
       "      <th>sentiment</th>\n",
       "      <th>label</th>\n",
       "      <th>review_preprocessed</th>\n",
       "      <th>input_ids</th>\n",
       "      <th>attention_mask</th>\n",
       "    </tr>\n",
       "  </thead>\n",
       "  <tbody>\n",
       "    <tr>\n",
       "      <th>11841</th>\n",
       "      <td>John Cassavetes is on the run from the law. He...</td>\n",
       "      <td>positive</td>\n",
       "      <td>tensor(0)</td>\n",
       "      <td>john cassavetes is on the run from the law he ...</td>\n",
       "      <td>[tensor(101), tensor(2198), tensor(16220), ten...</td>\n",
       "      <td>[tensor(1), tensor(1), tensor(1), tensor(1), t...</td>\n",
       "    </tr>\n",
       "    <tr>\n",
       "      <th>19602</th>\n",
       "      <td>It's not just that the movie is lame. It's mor...</td>\n",
       "      <td>negative</td>\n",
       "      <td>tensor(1)</td>\n",
       "      <td>it's not just that the movie is lame it's more...</td>\n",
       "      <td>[tensor(101), tensor(2009), tensor(1005), tens...</td>\n",
       "      <td>[tensor(1), tensor(1), tensor(1), tensor(1), t...</td>\n",
       "    </tr>\n",
       "    <tr>\n",
       "      <th>45519</th>\n",
       "      <td>Well, if it weren't for Ethel Waters and a 7-y...</td>\n",
       "      <td>negative</td>\n",
       "      <td>tensor(1)</td>\n",
       "      <td>well if it weren't for ethel waters and a 7yea...</td>\n",
       "      <td>[tensor(101), tensor(2092), tensor(2065), tens...</td>\n",
       "      <td>[tensor(1), tensor(1), tensor(1), tensor(1), t...</td>\n",
       "    </tr>\n",
       "    <tr>\n",
       "      <th>25747</th>\n",
       "      <td>I find Alan Jacobs review very accurate concer...</td>\n",
       "      <td>positive</td>\n",
       "      <td>tensor(0)</td>\n",
       "      <td>i find alan jacobs review very accurate concer...</td>\n",
       "      <td>[tensor(101), tensor(1045), tensor(2424), tens...</td>\n",
       "      <td>[tensor(1), tensor(1), tensor(1), tensor(1), t...</td>\n",
       "    </tr>\n",
       "    <tr>\n",
       "      <th>42642</th>\n",
       "      <td>This movie is simply awesome. It is so hilario...</td>\n",
       "      <td>positive</td>\n",
       "      <td>tensor(0)</td>\n",
       "      <td>this movie is simply awesome it is so hilariou...</td>\n",
       "      <td>[tensor(101), tensor(2023), tensor(3185), tens...</td>\n",
       "      <td>[tensor(1), tensor(1), tensor(1), tensor(1), t...</td>\n",
       "    </tr>\n",
       "  </tbody>\n",
       "</table>\n",
       "</div>"
      ],
      "text/plain": [
       "                                                  review sentiment      label   \n",
       "11841  John Cassavetes is on the run from the law. He...  positive  tensor(0)  \\\n",
       "19602  It's not just that the movie is lame. It's mor...  negative  tensor(1)   \n",
       "45519  Well, if it weren't for Ethel Waters and a 7-y...  negative  tensor(1)   \n",
       "25747  I find Alan Jacobs review very accurate concer...  positive  tensor(0)   \n",
       "42642  This movie is simply awesome. It is so hilario...  positive  tensor(0)   \n",
       "\n",
       "                                     review_preprocessed   \n",
       "11841  john cassavetes is on the run from the law he ...  \\\n",
       "19602  it's not just that the movie is lame it's more...   \n",
       "45519  well if it weren't for ethel waters and a 7yea...   \n",
       "25747  i find alan jacobs review very accurate concer...   \n",
       "42642  this movie is simply awesome it is so hilariou...   \n",
       "\n",
       "                                               input_ids   \n",
       "11841  [tensor(101), tensor(2198), tensor(16220), ten...  \\\n",
       "19602  [tensor(101), tensor(2009), tensor(1005), tens...   \n",
       "45519  [tensor(101), tensor(2092), tensor(2065), tens...   \n",
       "25747  [tensor(101), tensor(1045), tensor(2424), tens...   \n",
       "42642  [tensor(101), tensor(2023), tensor(3185), tens...   \n",
       "\n",
       "                                          attention_mask  \n",
       "11841  [tensor(1), tensor(1), tensor(1), tensor(1), t...  \n",
       "19602  [tensor(1), tensor(1), tensor(1), tensor(1), t...  \n",
       "45519  [tensor(1), tensor(1), tensor(1), tensor(1), t...  \n",
       "25747  [tensor(1), tensor(1), tensor(1), tensor(1), t...  \n",
       "42642  [tensor(1), tensor(1), tensor(1), tensor(1), t...  "
      ]
     },
     "execution_count": 9,
     "metadata": {},
     "output_type": "execute_result"
    }
   ],
   "source": [
    "# Apply the function to our data and save the tokenized sentences and attention masks in Pandas dataframe\n",
    "imdb_df['input_ids'], imdb_df['attention_mask'] = zip(*imdb_df['review_preprocessed'].progress_apply(get_tokens))\n",
    "imdb_df.sample(5, random_state=0)"
   ]
  },
  {
   "cell_type": "code",
   "execution_count": 10,
   "id": "2304aef8",
   "metadata": {},
   "outputs": [],
   "source": [
    "# Create a custom PyTorch Dataset class for our data\n",
    "class TextDataset(torch.utils.data.Dataset):\n",
    "    \"\"\"\n",
    "    Class to create PyTorch dataset for the sentiment analysis task\n",
    "    \"\"\"\n",
    "\n",
    "    def __init__(self, data_df: pd.DataFrame):\n",
    "        \"\"\"\n",
    "        Create the PyTorch dataset for the sentiment analysis task\n",
    "        Parameters\n",
    "        ----------\n",
    "        data_df (pd.DataFrame): prepared data in Pandas DataFrame format\n",
    "        \"\"\"\n",
    "\n",
    "        self.data_df = data_df\n",
    "\n",
    "    def __len__(self):\n",
    "        \"\"\"\n",
    "        Returns\n",
    "        ----------\n",
    "        data_len (int): dataset length\n",
    "        \"\"\"\n",
    "        data_len = self.data_df.shape[0]\n",
    "        return data_len\n",
    "\n",
    "    def __getitem__(self, idx: int):\n",
    "        \"\"\"\n",
    "        Gets tokenized text, attention masks and labels by id\n",
    "        \n",
    "        Parameters\n",
    "        ----------\n",
    "        idx (int): data item id\n",
    "        \n",
    "        Returns\n",
    "        ----------\n",
    "        input_ids (torch.Tensor): tokenized text\n",
    "        attention_mask (torch.Tensor): attention mask\n",
    "        label (torch.Tensor): sentiment label\n",
    "        \"\"\"\n",
    "        input_ids = self.data_df.iloc[idx]['input_ids']\n",
    "        attention_mask = self.data_df.iloc[idx]['attention_mask']\n",
    "        label = self.data_df.iloc[idx]['label']\n",
    "        return input_ids, attention_mask, label"
   ]
  },
  {
   "cell_type": "code",
   "execution_count": 11,
   "id": "4deacef3",
   "metadata": {},
   "outputs": [],
   "source": [
    "\n",
    "# ensure equal number of both labels in train and val splits\n",
    "train_split, test_split = train_test_split(imdb_df, test_size=0.2, random_state=0, stratify=imdb_df['sentiment'])\n",
    "val_split, test_split = train_test_split(test_split, test_size=0.5, random_state=0, stratify=test_split['sentiment'])\n",
    "\n",
    "# train_val_split, test_split = train_test_split(imdb_df, test_size=0.8, random_state=0, stratify=imdb_df['sentiment'])\n",
    "# train_split, val_split = train_test_split(train_val_split, test_size=0.5, random_state=0, stratify=train_val_split['sentiment'])"
   ]
  },
  {
   "cell_type": "code",
   "execution_count": 12,
   "id": "8bb75d91",
   "metadata": {},
   "outputs": [
    {
     "data": {
      "text/html": [
       "<div>\n",
       "<style scoped>\n",
       "    .dataframe tbody tr th:only-of-type {\n",
       "        vertical-align: middle;\n",
       "    }\n",
       "\n",
       "    .dataframe tbody tr th {\n",
       "        vertical-align: top;\n",
       "    }\n",
       "\n",
       "    .dataframe thead th {\n",
       "        text-align: right;\n",
       "    }\n",
       "</style>\n",
       "<table border=\"1\" class=\"dataframe\">\n",
       "  <thead>\n",
       "    <tr style=\"text-align: right;\">\n",
       "      <th></th>\n",
       "      <th>review</th>\n",
       "      <th>sentiment</th>\n",
       "      <th>label</th>\n",
       "      <th>review_preprocessed</th>\n",
       "      <th>input_ids</th>\n",
       "      <th>attention_mask</th>\n",
       "    </tr>\n",
       "  </thead>\n",
       "  <tbody>\n",
       "    <tr>\n",
       "      <th>38414</th>\n",
       "      <td>The notion of marital fidelity portrayed in th...</td>\n",
       "      <td>positive</td>\n",
       "      <td>tensor(0)</td>\n",
       "      <td>the notion of marital fidelity portrayed in th...</td>\n",
       "      <td>[tensor(101), tensor(1996), tensor(9366), tens...</td>\n",
       "      <td>[tensor(1), tensor(1), tensor(1), tensor(1), t...</td>\n",
       "    </tr>\n",
       "    <tr>\n",
       "      <th>24010</th>\n",
       "      <td>What a good film! Made Men is a great action m...</td>\n",
       "      <td>positive</td>\n",
       "      <td>tensor(0)</td>\n",
       "      <td>what a good film made men is a great action mo...</td>\n",
       "      <td>[tensor(101), tensor(2054), tensor(1037), tens...</td>\n",
       "      <td>[tensor(1), tensor(1), tensor(1), tensor(1), t...</td>\n",
       "    </tr>\n",
       "    <tr>\n",
       "      <th>29873</th>\n",
       "      <td>Joe Don Baker. He was great in \"Walking Tall\" ...</td>\n",
       "      <td>negative</td>\n",
       "      <td>tensor(1)</td>\n",
       "      <td>joe don baker he was great in \"walking tall\" a...</td>\n",
       "      <td>[tensor(101), tensor(3533), tensor(2123), tens...</td>\n",
       "      <td>[tensor(1), tensor(1), tensor(1), tensor(1), t...</td>\n",
       "    </tr>\n",
       "    <tr>\n",
       "      <th>2868</th>\n",
       "      <td>Monarch Cove was one of the best Friday night'...</td>\n",
       "      <td>positive</td>\n",
       "      <td>tensor(0)</td>\n",
       "      <td>monarch cove was one of the best friday night'...</td>\n",
       "      <td>[tensor(101), tensor(11590), tensor(11821), te...</td>\n",
       "      <td>[tensor(1), tensor(1), tensor(1), tensor(1), t...</td>\n",
       "    </tr>\n",
       "    <tr>\n",
       "      <th>15107</th>\n",
       "      <td>This film is so unbelievable; - the whole prem...</td>\n",
       "      <td>negative</td>\n",
       "      <td>tensor(1)</td>\n",
       "      <td>this film is so unbelievable the whole premise...</td>\n",
       "      <td>[tensor(101), tensor(2023), tensor(2143), tens...</td>\n",
       "      <td>[tensor(1), tensor(1), tensor(1), tensor(1), t...</td>\n",
       "    </tr>\n",
       "  </tbody>\n",
       "</table>\n",
       "</div>"
      ],
      "text/plain": [
       "                                                  review sentiment      label   \n",
       "38414  The notion of marital fidelity portrayed in th...  positive  tensor(0)  \\\n",
       "24010  What a good film! Made Men is a great action m...  positive  tensor(0)   \n",
       "29873  Joe Don Baker. He was great in \"Walking Tall\" ...  negative  tensor(1)   \n",
       "2868   Monarch Cove was one of the best Friday night'...  positive  tensor(0)   \n",
       "15107  This film is so unbelievable; - the whole prem...  negative  tensor(1)   \n",
       "\n",
       "                                     review_preprocessed   \n",
       "38414  the notion of marital fidelity portrayed in th...  \\\n",
       "24010  what a good film made men is a great action mo...   \n",
       "29873  joe don baker he was great in \"walking tall\" a...   \n",
       "2868   monarch cove was one of the best friday night'...   \n",
       "15107  this film is so unbelievable the whole premise...   \n",
       "\n",
       "                                               input_ids   \n",
       "38414  [tensor(101), tensor(1996), tensor(9366), tens...  \\\n",
       "24010  [tensor(101), tensor(2054), tensor(1037), tens...   \n",
       "29873  [tensor(101), tensor(3533), tensor(2123), tens...   \n",
       "2868   [tensor(101), tensor(11590), tensor(11821), te...   \n",
       "15107  [tensor(101), tensor(2023), tensor(2143), tens...   \n",
       "\n",
       "                                          attention_mask  \n",
       "38414  [tensor(1), tensor(1), tensor(1), tensor(1), t...  \n",
       "24010  [tensor(1), tensor(1), tensor(1), tensor(1), t...  \n",
       "29873  [tensor(1), tensor(1), tensor(1), tensor(1), t...  \n",
       "2868   [tensor(1), tensor(1), tensor(1), tensor(1), t...  \n",
       "15107  [tensor(1), tensor(1), tensor(1), tensor(1), t...  "
      ]
     },
     "execution_count": 12,
     "metadata": {},
     "output_type": "execute_result"
    }
   ],
   "source": [
    "train_split.head()"
   ]
  },
  {
   "cell_type": "code",
   "execution_count": 13,
   "id": "86c57ae4",
   "metadata": {},
   "outputs": [
    {
     "data": {
      "image/png": "[encoded data removed]",
      "text/plain": [
       "<Figure size 640x480 with 1 Axes>"
      ]
     },
     "metadata": {},
     "output_type": "display_data"
    }
   ],
   "source": [
    "\n",
    "\n",
    "# assume train_split is the dataframe containing the training set\n",
    "\n",
    "dd = train_split['sentiment'].value_counts()\n",
    "sns.barplot(x=np.array(['negative','positive']),y=dd.values)\n",
    "plt.title(\"Train data\")\n",
    "plt.show()"
   ]
  },
  {
   "cell_type": "code",
   "execution_count": 38,
   "id": "a9a39a65",
   "metadata": {},
   "outputs": [],
   "source": [
    "# dataloaders\n",
    "train_dataset = TextDataset(train_split)\n",
    "train_loader = DataLoader(train_dataset,\n",
    "                          shuffle=True,\n",
    "                          batch_size=64,\n",
    "                          drop_last=True)\n",
    "\n",
    "val_dataset = TextDataset(val_split)\n",
    "val_loader = DataLoader(val_dataset,\n",
    "                        shuffle=False,\n",
    "                        batch_size=64,\n",
    "                        drop_last=False)\n",
    "\n",
    "test_dataset = TextDataset(test_split)\n",
    "test_loader = DataLoader(test_dataset,\n",
    "                        shuffle=False,\n",
    "                        batch_size=64,\n",
    "                        drop_last=False)\n"
   ]
  },
  {
   "cell_type": "code",
   "execution_count": 39,
   "id": "1b317688",
   "metadata": {},
   "outputs": [
    {
     "name": "stdout",
     "output_type": "stream",
     "text": [
      "Number of training examples: 40000\n",
      "Number of validation examples: 5000\n",
      "Number of testing examples: 5000\n"
     ]
    }
   ],
   "source": [
    "\n",
    "print(f\"Number of training examples: {len(train_dataset)}\")\n",
    "print(f\"Number of validation examples: {len(val_dataset)}\")\n",
    "print(f\"Number of testing examples: {len(test_dataset)}\")\n",
    "\n"
   ]
  },
  {
   "cell_type": "code",
   "execution_count": 16,
   "id": "e4b17cd7",
   "metadata": {},
   "outputs": [
    {
     "data": {
      "text/plain": [
       "=========================================================================================================\n",
       "Layer (type:depth-idx)                                  Output Shape              Param #\n",
       "=========================================================================================================\n",
       "BertForSequenceClassification                           [1, 2]                    --\n",
       "├─BertModel: 1-1                                        [1, 768]                  --\n",
       "│    └─BertEmbeddings: 2-1                              [1, 256, 768]             --\n",
       "│    │    └─Embedding: 3-1                              [1, 256, 768]             23,440,896\n",
       "│    │    └─Embedding: 3-2                              [1, 256, 768]             1,536\n",
       "│    │    └─Embedding: 3-3                              [1, 256, 768]             393,216\n",
       "│    │    └─LayerNorm: 3-4                              [1, 256, 768]             1,536\n",
       "│    │    └─Dropout: 3-5                                [1, 256, 768]             --\n",
       "│    └─BertEncoder: 2-2                                 [1, 256, 768]             --\n",
       "│    │    └─ModuleList: 3-6                             --                        85,054,464\n",
       "│    └─BertPooler: 2-3                                  [1, 768]                  --\n",
       "│    │    └─Linear: 3-7                                 [1, 768]                  590,592\n",
       "│    │    └─Tanh: 3-8                                   [1, 768]                  --\n",
       "├─Dropout: 1-2                                          [1, 768]                  --\n",
       "├─Linear: 1-3                                           [1, 2]                    1,538\n",
       "=========================================================================================================\n",
       "Total params: 109,483,778\n",
       "Trainable params: 109,483,778\n",
       "Non-trainable params: 0\n",
       "Total mult-adds (M): 109.48\n",
       "=========================================================================================================\n",
       "Input size (MB): 0.00\n",
       "Forward/backward pass size (MB): 213.92\n",
       "Params size (MB): 437.94\n",
       "Estimated Total Size (MB): 651.85\n",
       "========================================================================================================="
      ]
     },
     "execution_count": 16,
     "metadata": {},
     "output_type": "execute_result"
    }
   ],
   "source": [
    "#Initialize the BERT model from Transformers\n",
    "\n",
    "model = BertForSequenceClassification.from_pretrained('bert-base-uncased',\n",
    "                                                      num_labels=len(sentiment_to_idx),\n",
    "                                                      output_attentions=False,\n",
    "                                                      output_hidden_states=False)\n",
    "\n",
    "torchinfo.summary(model, input_data=torch.randint(low=0, high=30522, size=(1, 256)))"
   ]
  },
  {
   "cell_type": "code",
   "execution_count": 17,
   "id": "b2534496",
   "metadata": {},
   "outputs": [],
   "source": [
    "#  Define the optimizer and learning rate scheduler\n",
    "\n",
    "epochs = 5\n",
    "training_steps = len(train_loader) * epochs\n",
    "optimizer = AdamW(model.parameters(), lr=5e-5, eps=1e-8)\n",
    "scheduler = get_linear_schedule_with_warmup(optimizer,\n",
    "                                            num_warmup_steps=0,\n",
    "                                            num_training_steps=training_steps)"
   ]
  },
  {
   "cell_type": "code",
   "execution_count": 18,
   "id": "33183470",
   "metadata": {},
   "outputs": [],
   "source": [
    "# Supplementary class to keep track of average stats during the training\n",
    "class RunningAverage:\n",
    "    \"\"\"\n",
    "    Class to save and update the running average\n",
    "    \"\"\"\n",
    "\n",
    "    def __init__(self) -> None:\n",
    "        self.count = 0\n",
    "        self.total = 0.0\n",
    "\n",
    "    def update(self, n: float) -> None:\n",
    "        \"\"\"\n",
    "        Updates running average with new value\n",
    "        Parameters\n",
    "        ----------\n",
    "        n (float): value to add to the running average\n",
    "        \"\"\"\n",
    "        self.total += n\n",
    "        self.count += 1\n",
    "\n",
    "    def __call__(self) -> float:\n",
    "        \"\"\"\n",
    "        Returns current running average\n",
    "        Returns\n",
    "        -------\n",
    "        running_avg (float): Current running average\n",
    "        \"\"\"\n",
    "        running_avg = self.total / (self.count + 1e-15)\n",
    "        return running_avg"
   ]
  },
  {
   "cell_type": "code",
   "execution_count": 19,
   "id": "7bfa79df",
   "metadata": {},
   "outputs": [
    {
     "name": "stdout",
     "output_type": "stream",
     "text": [
      "Epoch 1. Train_loss: 0.2578, val_loss: 0.1997, val_acc: 0.9254, time: 07:31                                             \n",
      "Epoch 2. Train_loss: 0.1276, val_loss: 0.2049, val_acc: 0.9250, time: 07:28                                             \n",
      "Epoch 3. Train_loss: 0.0551, val_loss: 0.2739, val_acc: 0.9260, time: 07:28                                             \n",
      "Epoch 4. Train_loss: 0.0248, val_loss: 0.3181, val_acc: 0.9260, time: 07:26                                             \n",
      "Epoch 5. Train_loss: 0.0131, val_loss: 0.3673, val_acc: 0.9284, time: 07:26                                             \n"
     ]
    }
   ],
   "source": [
    "\n",
    "# Initialize lists to store train and validation loss and accuracy\n",
    "train_losses = []\n",
    "train_accuracies = []\n",
    "val_losses = []\n",
    "val_accuracies = []\n",
    "\n",
    "device = torch.device('cuda:7')\n",
    "model.to(device)\n",
    "\n",
    "\n",
    "\n",
    "for e in range(epochs):\n",
    "    loss_avg = RunningAverage()\n",
    "    val_avg = RunningAverage()\n",
    "    val_loss_avg = RunningAverage()\n",
    "\n",
    "    # Force the garbage collection\n",
    "    torch.cuda.empty_cache()\n",
    "    gc.collect()\n",
    "\n",
    "    model.train()\n",
    "    with tqdm(total=len(train_loader), leave=False, file=sys.stdout) as t:\n",
    "        t.set_description(f'Epoch {e + 1}')\n",
    "\n",
    "        for batch_n, batch_data in enumerate(train_loader):\n",
    "            # Load the current batch data on the defined device\n",
    "            b_input_ids = batch_data[0].to(device)\n",
    "            b_input_mask = batch_data[1].to(device)\n",
    "            b_labels = batch_data[2].to(device)\n",
    "\n",
    "            model.zero_grad()\n",
    "            model_output = model(b_input_ids,\n",
    "                                 token_type_ids=None,\n",
    "                                 attention_mask=b_input_mask,\n",
    "                                 labels=b_labels)\n",
    "            loss, logits = model_output['loss'], model_output['logits']\n",
    "            loss_avg.update(loss.item())\n",
    "            loss.backward()\n",
    "            # Adaptively clip gradients to avoid gradient explosion\n",
    "            torch.nn.utils.clip_grad_norm_(model.parameters(), 2.0)\n",
    "            optimizer.step()\n",
    "            # Update the LR scheduler every step\n",
    "            scheduler.step()\n",
    "\n",
    "            t.set_postfix({'stats': f'train_loss: {loss_avg():.4f}'})\n",
    "            t.update()\n",
    "            stats_time_elapsed = t.format_interval(t.format_dict['elapsed'])\n",
    "\n",
    "    # Evaluate every epoch\n",
    "    model.eval()\n",
    "    with torch.no_grad():\n",
    "        for val_batch_data in val_loader:\n",
    "            # Load the current batch data on the defined device\n",
    "            b_val_input_ids = val_batch_data[0].to(device)\n",
    "            b_val_input_mask = val_batch_data[1].to(device)\n",
    "            b_val_labels = val_batch_data[2].to(device)\n",
    "\n",
    "            val_model_output = model(b_val_input_ids,\n",
    "                                     token_type_ids=None,\n",
    "                                     attention_mask=b_val_input_mask,\n",
    "                                     labels=b_val_labels)\n",
    "            val_loss, val_logits = val_model_output['loss'], val_model_output['logits']\n",
    "            val_loss_avg.update(val_loss.item())\n",
    "            val_logits = torch.argmax(val_logits, 1)\n",
    "            # Calculate the validation accuracy\n",
    "            val_batch = torch.sum(val_logits == b_val_labels) / b_val_labels.shape[0]\n",
    "            val_avg.update(val_batch.item())\n",
    "\n",
    "    # Print the epoch stats\n",
    "    print(f'Epoch {e + 1}. Train_loss: {loss_avg():.4f},'\n",
    "          f' val_loss: {val_loss_avg():.4f}, val_acc: {val_avg():.4f}, time: {stats_time_elapsed}')\n",
    "\n",
    "    # Store the train and validation loss and accuracy\n",
    "    train_losses.append(loss_avg())\n",
    "    train_accuracies.append(1 - loss_avg())\n",
    "    val_losses.append(val_loss_avg())\n",
    "    val_accuracies.append(val_avg())\n",
    "\n"
   ]
  },
  {
   "cell_type": "code",
   "execution_count": 20,
   "id": "9af2fa76",
   "metadata": {},
   "outputs": [
    {
     "data": {
      "image/png": "[encoded data removed]",
      "text/plain": [
       "<Figure size 1200x500 with 2 Axes>"
      ]
     },
     "metadata": {},
     "output_type": "display_data"
    }
   ],
   "source": [
    "# Plot the train and validation loss and accuracy\n",
    "epochs_range = range(1, epochs+1)\n",
    "plt.figure(figsize=(12, 5))\n",
    "plt.subplot(1, 2, 1)\n",
    "plt.plot(epochs_range, train_losses, label='Train')\n",
    "plt.plot(epochs_range, val_losses, label='Validation')\n",
    "plt.xlabel('Epochs')\n",
    "plt.ylabel('Loss')\n",
    "plt.legend()\n",
    "plt.grid()\n",
    "plt.subplot(1, 2, 2)\n",
    "plt.plot(epochs_range, train_accuracies, label='Train')\n",
    "plt.plot(epochs_range, val_accuracies, label='Validation')\n",
    "plt.xlabel('Epochs')\n",
    "plt.ylabel('Accuracy')\n",
    "plt.legend()\n",
    "plt.grid()\n",
    "plt.show()\n",
    "\n"
   ]
  },
  {
   "cell_type": "code",
   "execution_count": 21,
   "id": "a1a3a052",
   "metadata": {},
   "outputs": [
    {
     "name": "stdout",
     "output_type": "stream",
     "text": [
      "Test loss: 0.3397, Test accuracy: 0.9337\n",
      "\n",
      "\n",
      "              precision    recall  f1-score   support\n",
      "\n",
      "    positive       0.93      0.94      0.93      2500\n",
      "    negative       0.94      0.93      0.93      2500\n",
      "\n",
      "    accuracy                           0.93      5000\n",
      "   macro avg       0.93      0.93      0.93      5000\n",
      "weighted avg       0.93      0.93      0.93      5000\n",
      "\n"
     ]
    }
   ],
   "source": [
    "from sklearn.metrics import classification_report\n",
    "\n",
    "# Evaluate the model on the test dataset\n",
    "model.eval()\n",
    "with torch.no_grad():\n",
    "    test_loss_avg = RunningAverage()\n",
    "    test_avg = RunningAverage()\n",
    "    y_true = []\n",
    "    y_pred = []\n",
    "    for test_batch_data in test_loader:\n",
    "        # Load the current batch data on the defined device\n",
    "        b_test_input_ids = test_batch_data[0].to(device)\n",
    "        b_test_input_mask = test_batch_data[1].to(device)\n",
    "        b_test_labels = test_batch_data[2].to(device)\n",
    "\n",
    "        test_model_output = model(b_test_input_ids,\n",
    "                                   token_type_ids=None,\n",
    "                                   attention_mask=b_test_input_mask,\n",
    "                                   labels=b_test_labels)\n",
    "        test_loss, test_logits = test_model_output['loss'], test_model_output['logits']\n",
    "        test_loss_avg.update(test_loss.item())\n",
    "        test_logits = torch.argmax(test_logits, 1)\n",
    "        # Calculate the test accuracy\n",
    "        test_batch = torch.sum(test_logits == b_test_labels) / b_test_labels.shape[0]\n",
    "        test_avg.update(test_batch.item())\n",
    "        y_true.extend(b_test_labels.cpu().numpy().tolist())\n",
    "        y_pred.extend(test_logits.cpu().numpy().tolist())\n",
    "\n",
    "# Print the test accuracy and test loss\n",
    "print(f'Test loss: {test_loss_avg():.4f}, Test accuracy: {test_avg():.4f}')\n",
    "print('\\n')\n",
    "\n",
    "# Get the classification report\n",
    "target_names = [idx_to_sentiment[i] for i in range(len(idx_to_sentiment))]\n",
    "print(classification_report(y_true, y_pred, target_names=target_names))\n"
   ]
  },
  {
   "cell_type": "code",
   "execution_count": 22,
   "id": "c21f9b7e",
   "metadata": {},
   "outputs": [
    {
     "data": {
      "image/png": "[encoded data removed]",
      "text/plain": [
       "<Figure size 500x400 with 2 Axes>"
      ]
     },
     "metadata": {},
     "output_type": "display_data"
    }
   ],
   "source": [
    "# Create the confusion matrix\n",
    "cm = confusion_matrix(y_true, y_pred)\n",
    "\n",
    "# Plot the confusion matrix using seaborn\n",
    "plt.figure(figsize=(5, 4))\n",
    "sns.heatmap(cm, annot=True, fmt='g')\n",
    "plt.title('Confusion Matrix')\n",
    "plt.xlabel('Predicted')\n",
    "plt.ylabel('True')\n",
    "plt.show()"
   ]
  },
  {
   "cell_type": "markdown",
   "id": "dd8b6315",
   "metadata": {},
   "source": [
    "## (b) Comparing SSRL (fine-tuned BERT) with Baseline Classification models (Supervised)"
   ]
  },
  {
   "cell_type": "markdown",
   "id": "047676f4",
   "metadata": {},
   "source": [
    "### 1) Naive Bayes"
   ]
  },
  {
   "cell_type": "code",
   "execution_count": 23,
   "id": "cb60d682",
   "metadata": {
    "scrolled": true
   },
   "outputs": [
    {
     "name": "stdout",
     "output_type": "stream",
     "text": [
      "Test accuracy: 0.8878, Test loss: 0.4064\n",
      "\n",
      "\n",
      "              precision    recall  f1-score   support\n",
      "\n",
      "    positive       0.89      0.89      0.89      2500\n",
      "    negative       0.89      0.89      0.89      2500\n",
      "\n",
      "    accuracy                           0.89      5000\n",
      "   macro avg       0.89      0.89      0.89      5000\n",
      "weighted avg       0.89      0.89      0.89      5000\n",
      "\n"
     ]
    }
   ],
   "source": [
    "from sklearn.feature_extraction.text import TfidfVectorizer\n",
    "from sklearn.naive_bayes import MultinomialNB\n",
    "from sklearn.metrics import classification_report\n",
    "from sklearn.metrics import accuracy_score, log_loss\n",
    "\n",
    "# Convert the PyTorch tensors to a recognized type\n",
    "train_labels = [int(label) for label in train_split['label']]\n",
    "test_labels = [int(label) for label in test_split['label']]\n",
    "\n",
    "vectorizer = TfidfVectorizer(stop_words='english', ngram_range=(1, 2))\n",
    "train_features = vectorizer.fit_transform(train_split['review_preprocessed'])\n",
    "test_features = vectorizer.transform(test_split['review_preprocessed'])\n",
    "\n",
    "# Create and train the Naive Bayes classifier\n",
    "nb_clf = MultinomialNB(alpha=1.8)\n",
    "nb_clf.fit(train_features, train_labels)\n",
    "\n",
    "\n",
    "# Evaluate the classifier on the test set\n",
    "test_preds = nb_clf.predict(test_features)\n",
    "target_names = [idx_to_sentiment[i] for i in range(len(idx_to_sentiment))]\n",
    "\n",
    "# Print the test accuracy and test loss\n",
    "test_acc = accuracy_score(test_labels, test_preds)\n",
    "test_loss = log_loss(test_labels, nb_clf.predict_proba(test_features))\n",
    "print(f'Test accuracy: {test_acc:.4f}, Test loss: {test_loss:.4f}')\n",
    "print('\\n')\n",
    "\n",
    "print(classification_report(test_labels, test_preds, target_names=target_names))\n"
   ]
  },
  {
   "cell_type": "code",
   "execution_count": 24,
   "id": "8d7013a4",
   "metadata": {
    "scrolled": true
   },
   "outputs": [
    {
     "name": "stdout",
     "output_type": "stream",
     "text": [
      "(40000, 2773517)\n",
      "(5000, 2773517)\n"
     ]
    }
   ],
   "source": [
    "print(train_features.shape)\n",
    "print(test_features.shape)\n"
   ]
  },
  {
   "cell_type": "code",
   "execution_count": 25,
   "id": "fc80c899",
   "metadata": {},
   "outputs": [
    {
     "name": "stdout",
     "output_type": "stream",
     "text": [
      "test samples: 5000\n"
     ]
    }
   ],
   "source": [
    "print(f'test samples: {test_split.shape[0]}')"
   ]
  },
  {
   "cell_type": "code",
   "execution_count": 26,
   "id": "7644d9c5",
   "metadata": {},
   "outputs": [
    {
     "data": {
      "image/png": "[encoded data removed]",
      "text/plain": [
       "<Figure size 500x400 with 2 Axes>"
      ]
     },
     "metadata": {},
     "output_type": "display_data"
    }
   ],
   "source": [
    "\n",
    "# Create predictions on the test set\n",
    "test_preds = nb_clf.predict(test_features)\n",
    "\n",
    "# Create the confusion matrix\n",
    "cm = confusion_matrix(test_labels, test_preds)\n",
    "\n",
    "# Plot the confusion matrix using seaborn\n",
    "plt.figure(figsize=(5, 4))\n",
    "sns.heatmap(cm, annot=True, fmt='g')\n",
    "plt.title('Confusion Matrix')\n",
    "plt.xlabel('Predicted')\n",
    "plt.ylabel('True')\n",
    "plt.show()"
   ]
  },
  {
   "cell_type": "markdown",
   "id": "d9aca4e1",
   "metadata": {},
   "source": [
    "### 2) Linear SVC (Support Vector Classifier)"
   ]
  },
  {
   "cell_type": "code",
   "execution_count": 40,
   "id": "dedb6672",
   "metadata": {},
   "outputs": [
    {
     "name": "stdout",
     "output_type": "stream",
     "text": [
      "Test accuracy: 0.9086, Test loss: 0.3382\n",
      "\n",
      "\n",
      "              precision    recall  f1-score   support\n",
      "\n",
      "    positive       0.90      0.92      0.91      2500\n",
      "    negative       0.92      0.90      0.91      2500\n",
      "\n",
      "    accuracy                           0.91      5000\n",
      "   macro avg       0.91      0.91      0.91      5000\n",
      "weighted avg       0.91      0.91      0.91      5000\n",
      "\n"
     ]
    }
   ],
   "source": [
    "from sklearn.feature_extraction.text import TfidfVectorizer\n",
    "from sklearn.svm import LinearSVC\n",
    "from sklearn.calibration import CalibratedClassifierCV\n",
    "from sklearn.metrics import classification_report\n",
    "from sklearn.metrics import accuracy_score, log_loss\n",
    "\n",
    "# Convert the PyTorch tensors to a recognized type\n",
    "train_labels = [int(label) for label in train_split['label']]\n",
    "test_labels = [int(label) for label in test_split['label']]\n",
    "\n",
    "vectorizer = TfidfVectorizer(stop_words='english', ngram_range=(1, 2))\n",
    "train_features = vectorizer.fit_transform(train_split['review_preprocessed'])\n",
    "test_features = vectorizer.transform(test_split['review_preprocessed'])\n",
    "\n",
    "# Create and train the Linear SVC classifier\n",
    "svc_clf = LinearSVC(C=1.0)\n",
    "svc_clf.fit(train_features, train_labels)\n",
    "\n",
    "# Calibrate the classifier for probability estimates\n",
    "calibrated_svc = CalibratedClassifierCV(svc_clf, cv='prefit')\n",
    "calibrated_svc.fit(train_features, train_labels)\n",
    "\n",
    "# Evaluate the classifier on the test set\n",
    "test_preds = calibrated_svc.predict(test_features)\n",
    "target_names = [idx_to_sentiment[i] for i in range(len(idx_to_sentiment))]\n",
    "\n",
    "# Print the test accuracy and test loss\n",
    "test_acc = accuracy_score(test_labels, test_preds)\n",
    "test_loss = log_loss(test_labels, calibrated_svc.predict_proba(test_features))\n",
    "print(f'Test accuracy: {test_acc:.4f}, Test loss: {test_loss:.4f}')\n",
    "print('\\n')\n",
    "\n",
    "print(classification_report(test_labels, test_preds, target_names=target_names))\n"
   ]
  },
  {
   "cell_type": "code",
   "execution_count": 41,
   "id": "1dbde08e",
   "metadata": {},
   "outputs": [
    {
     "name": "stdout",
     "output_type": "stream",
     "text": [
      "(40000, 2773517)\n",
      "(5000, 2773517)\n"
     ]
    }
   ],
   "source": [
    "print(train_features.shape)\n",
    "print(test_features.shape)\n"
   ]
  },
  {
   "cell_type": "code",
   "execution_count": 42,
   "id": "e710afc3",
   "metadata": {},
   "outputs": [
    {
     "data": {
      "image/png": "[encoded data removed]",
      "text/plain": [
       "<Figure size 500x400 with 2 Axes>"
      ]
     },
     "metadata": {},
     "output_type": "display_data"
    }
   ],
   "source": [
    "# Create predictions on the test set\n",
    "test_preds = calibrated_svc.predict(test_features)\n",
    "\n",
    "# Create the confusion matrix\n",
    "cm = confusion_matrix(test_labels, test_preds)\n",
    "\n",
    "# Plot the confusion matrix using seaborn\n",
    "plt.figure(figsize=(5, 4))\n",
    "sns.heatmap(cm, annot=True, fmt='g')\n",
    "plt.title('Confusion Matrix')\n",
    "plt.xlabel('Predicted')\n",
    "plt.ylabel('True')\n",
    "plt.show()"
   ]
  },
  {
   "cell_type": "markdown",
   "id": "502831c1",
   "metadata": {},
   "source": [
    "### 3) LSTM  (Deep learning model)"
   ]
  },
  {
   "cell_type": "code",
   "execution_count": 41,
   "id": "d621bce0",
   "metadata": {},
   "outputs": [],
   "source": [
    "# import libraries\n",
    "\n",
    "# data manipulation\n",
    "import pandas as pd\n",
    "import numpy as np\n",
    "\n",
    "# data visualization\n",
    "import matplotlib.pyplot as plt\n",
    "import seaborn as sns\n",
    "\n",
    "# pytorch\n",
    "import torch\n",
    "from torch import nn\n",
    "from torch.optim import Adam\n",
    "from torch.utils.data import TensorDataset, DataLoader\n",
    "\n",
    "# sklearn\n",
    "from sklearn.metrics import classification_report, confusion_matrix\n",
    "from sklearn.model_selection import train_test_split\n",
    "\n",
    "# utils\n",
    "import os\n",
    "from tqdm import tqdm\n",
    "tqdm.pandas()\n",
    "from collections import Counter"
   ]
  },
  {
   "cell_type": "code",
   "execution_count": 15,
   "id": "26e35acd",
   "metadata": {},
   "outputs": [],
   "source": [
    "# copy to another dataframe for manipulation\n",
    "data = imdb_df"
   ]
  },
  {
   "cell_type": "code",
   "execution_count": 16,
   "id": "1e6e39e1",
   "metadata": {},
   "outputs": [
    {
     "name": "stderr",
     "output_type": "stream",
     "text": [
      "100%|█████████████████████████████████████████████████████████████████████████| 50000/50000 [00:00<00:00, 660680.54it/s]\n"
     ]
    },
    {
     "data": {
      "text/html": [
       "<div>\n",
       "<style scoped>\n",
       "    .dataframe tbody tr th:only-of-type {\n",
       "        vertical-align: middle;\n",
       "    }\n",
       "\n",
       "    .dataframe tbody tr th {\n",
       "        vertical-align: top;\n",
       "    }\n",
       "\n",
       "    .dataframe thead th {\n",
       "        text-align: right;\n",
       "    }\n",
       "</style>\n",
       "<table border=\"1\" class=\"dataframe\">\n",
       "  <thead>\n",
       "    <tr style=\"text-align: right;\">\n",
       "      <th></th>\n",
       "      <th>review</th>\n",
       "      <th>sentiment</th>\n",
       "      <th>label</th>\n",
       "      <th>review_preprocessed</th>\n",
       "      <th>input_ids</th>\n",
       "      <th>attention_mask</th>\n",
       "    </tr>\n",
       "  </thead>\n",
       "  <tbody>\n",
       "    <tr>\n",
       "      <th>0</th>\n",
       "      <td>One of the other reviewers has mentioned that ...</td>\n",
       "      <td>positive</td>\n",
       "      <td>1</td>\n",
       "      <td>one of the other reviewers has mentioned that ...</td>\n",
       "      <td>[tensor(101), tensor(2028), tensor(1997), tens...</td>\n",
       "      <td>[tensor(1), tensor(1), tensor(1), tensor(1), t...</td>\n",
       "    </tr>\n",
       "    <tr>\n",
       "      <th>1</th>\n",
       "      <td>A wonderful little production. &lt;br /&gt;&lt;br /&gt;The...</td>\n",
       "      <td>positive</td>\n",
       "      <td>1</td>\n",
       "      <td>a wonderful little production the filming tech...</td>\n",
       "      <td>[tensor(101), tensor(1037), tensor(6919), tens...</td>\n",
       "      <td>[tensor(1), tensor(1), tensor(1), tensor(1), t...</td>\n",
       "    </tr>\n",
       "    <tr>\n",
       "      <th>2</th>\n",
       "      <td>I thought this was a wonderful way to spend ti...</td>\n",
       "      <td>positive</td>\n",
       "      <td>1</td>\n",
       "      <td>i thought this was a wonderful way to spend ti...</td>\n",
       "      <td>[tensor(101), tensor(1045), tensor(2245), tens...</td>\n",
       "      <td>[tensor(1), tensor(1), tensor(1), tensor(1), t...</td>\n",
       "    </tr>\n",
       "    <tr>\n",
       "      <th>3</th>\n",
       "      <td>Basically there's a family where a little boy ...</td>\n",
       "      <td>negative</td>\n",
       "      <td>0</td>\n",
       "      <td>basically there's a family where a little boy ...</td>\n",
       "      <td>[tensor(101), tensor(10468), tensor(2045), ten...</td>\n",
       "      <td>[tensor(1), tensor(1), tensor(1), tensor(1), t...</td>\n",
       "    </tr>\n",
       "    <tr>\n",
       "      <th>4</th>\n",
       "      <td>Petter Mattei's \"Love in the Time of Money\" is...</td>\n",
       "      <td>positive</td>\n",
       "      <td>1</td>\n",
       "      <td>petter mattei's \"love in the time of money\" is...</td>\n",
       "      <td>[tensor(101), tensor(9004), tensor(3334), tens...</td>\n",
       "      <td>[tensor(1), tensor(1), tensor(1), tensor(1), t...</td>\n",
       "    </tr>\n",
       "  </tbody>\n",
       "</table>\n",
       "</div>"
      ],
      "text/plain": [
       "                                              review sentiment  label   \n",
       "0  One of the other reviewers has mentioned that ...  positive      1  \\\n",
       "1  A wonderful little production. <br /><br />The...  positive      1   \n",
       "2  I thought this was a wonderful way to spend ti...  positive      1   \n",
       "3  Basically there's a family where a little boy ...  negative      0   \n",
       "4  Petter Mattei's \"Love in the Time of Money\" is...  positive      1   \n",
       "\n",
       "                                 review_preprocessed   \n",
       "0  one of the other reviewers has mentioned that ...  \\\n",
       "1  a wonderful little production the filming tech...   \n",
       "2  i thought this was a wonderful way to spend ti...   \n",
       "3  basically there's a family where a little boy ...   \n",
       "4  petter mattei's \"love in the time of money\" is...   \n",
       "\n",
       "                                           input_ids   \n",
       "0  [tensor(101), tensor(2028), tensor(1997), tens...  \\\n",
       "1  [tensor(101), tensor(1037), tensor(6919), tens...   \n",
       "2  [tensor(101), tensor(1045), tensor(2245), tens...   \n",
       "3  [tensor(101), tensor(10468), tensor(2045), ten...   \n",
       "4  [tensor(101), tensor(9004), tensor(3334), tens...   \n",
       "\n",
       "                                      attention_mask  \n",
       "0  [tensor(1), tensor(1), tensor(1), tensor(1), t...  \n",
       "1  [tensor(1), tensor(1), tensor(1), tensor(1), t...  \n",
       "2  [tensor(1), tensor(1), tensor(1), tensor(1), t...  \n",
       "3  [tensor(1), tensor(1), tensor(1), tensor(1), t...  \n",
       "4  [tensor(1), tensor(1), tensor(1), tensor(1), t...  "
      ]
     },
     "execution_count": 16,
     "metadata": {},
     "output_type": "execute_result"
    }
   ],
   "source": [
    "# As we can see, we have sentiment label in text format. In this case, we need to transform these labels into number.\n",
    "#We will define positive as 1 and negative as 0.\n",
    "\n",
    "def transform_label(label):\n",
    "    return 1 if label == 'positive' else 0\n",
    "\n",
    "data['label'] = data['sentiment'].progress_apply(transform_label)\n",
    "data.head()"
   ]
  },
  {
   "cell_type": "code",
   "execution_count": 17,
   "id": "fbecb99b",
   "metadata": {},
   "outputs": [
    {
     "data": {
      "text/plain": [
       "sentiment\n",
       "positive    25000\n",
       "negative    25000\n",
       "Name: count, dtype: int64"
      ]
     },
     "execution_count": 17,
     "metadata": {},
     "output_type": "execute_result"
    }
   ],
   "source": [
    "# check if we have an imbalance case by looking at total dataset of each positive and negative classes\n",
    "\n",
    "data.sentiment.value_counts()"
   ]
  },
  {
   "cell_type": "code",
   "execution_count": 18,
   "id": "1091842a",
   "metadata": {},
   "outputs": [
    {
     "name": "stderr",
     "output_type": "stream",
     "text": [
      "100%|██████████████████████████████████████████████████████████████████████████| 50000/50000 [00:02<00:00, 19412.76it/s]\n"
     ]
    }
   ],
   "source": [
    "# Now, we want to see token distribution in our dataset. We want to see token distribution for each positive and \n",
    "# negative labels. We will split sentences by whitespaces and count total tokens by len() function.\n",
    "\n",
    "data['token_length'] = data.review.progress_apply(lambda x: len(x.split()))"
   ]
  },
  {
   "cell_type": "code",
   "execution_count": 19,
   "id": "5770f3cd",
   "metadata": {},
   "outputs": [
    {
     "data": {
      "text/plain": [
       "count    25000.000000\n",
       "mean       232.849320\n",
       "std        177.497046\n",
       "min         10.000000\n",
       "25%        125.000000\n",
       "50%        172.000000\n",
       "75%        284.000000\n",
       "max       2470.000000\n",
       "Name: token_length, dtype: float64"
      ]
     },
     "execution_count": 19,
     "metadata": {},
     "output_type": "execute_result"
    }
   ],
   "source": [
    "data_pos = data[data['label'] == 1]\n",
    "data_pos['token_length'].describe()"
   ]
  },
  {
   "cell_type": "markdown",
   "id": "4c82fc3c",
   "metadata": {},
   "source": [
    "For positive reviews, we have maximum token 2470 and minimum token 10. While the average token is 232.85"
   ]
  },
  {
   "cell_type": "code",
   "execution_count": 20,
   "id": "56374846",
   "metadata": {},
   "outputs": [
    {
     "data": {
      "text/plain": [
       "count    25000.000000\n",
       "mean       229.464560\n",
       "std        164.947795\n",
       "min          4.000000\n",
       "25%        128.000000\n",
       "50%        174.000000\n",
       "75%        278.000000\n",
       "max       1522.000000\n",
       "Name: token_length, dtype: float64"
      ]
     },
     "execution_count": 20,
     "metadata": {},
     "output_type": "execute_result"
    }
   ],
   "source": [
    "\n",
    "\n",
    "data_neg = data[data['label'] == 0]\n",
    "data_neg['token_length'].describe()\n",
    "\n"
   ]
  },
  {
   "cell_type": "markdown",
   "id": "f16d5058",
   "metadata": {},
   "source": [
    "\n",
    "\n",
    "And for negative reviews, we have maximum and minimum token respectively 1522 and 4. While the average token is 229.46\n"
   ]
  },
  {
   "cell_type": "code",
   "execution_count": 21,
   "id": "d2d0d25e",
   "metadata": {},
   "outputs": [
    {
     "data": {
      "text/plain": [
       "<Figure size 500x800 with 0 Axes>"
      ]
     },
     "metadata": {},
     "output_type": "display_data"
    },
    {
     "data": {
      "image/png": "[encoded data removed]",
      "text/plain": [
       "<Figure size 500x500 with 1 Axes>"
      ]
     },
     "metadata": {},
     "output_type": "display_data"
    }
   ],
   "source": [
    "plt.figure(figsize=(5, 8))\n",
    "sns.displot(data_pos, x='token_length')\n",
    "plt.title('Positive Token Length Distribution')\n",
    "plt.show()"
   ]
  },
  {
   "cell_type": "code",
   "execution_count": 22,
   "id": "2cc01672",
   "metadata": {},
   "outputs": [
    {
     "data": {
      "text/plain": [
       "<Figure size 500x800 with 0 Axes>"
      ]
     },
     "metadata": {},
     "output_type": "display_data"
    },
    {
     "data": {
      "image/png": "[encoded data removed]",
      "text/plain": [
       "<Figure size 500x500 with 1 Axes>"
      ]
     },
     "metadata": {},
     "output_type": "display_data"
    }
   ],
   "source": [
    "plt.figure(figsize=(5, 8))\n",
    "sns.displot(data_pos, x='token_length')\n",
    "plt.title('Negative Token Length Distribution')\n",
    "plt.show()"
   ]
  },
  {
   "cell_type": "code",
   "execution_count": 28,
   "id": "f816283b",
   "metadata": {},
   "outputs": [
    {
     "name": "stdout",
     "output_type": "stream",
     "text": [
      "Positive\n",
      "Brilliant and moving performances by Tom Courtenay and Peter Finch.\n",
      "\n",
      "Negative\n",
      "Primary plot!Primary direction!Poor interpretation.\n"
     ]
    }
   ],
   "source": [
    "# see most minimum length token\n",
    "print('Positive')\n",
    "print(data_pos[data_pos['token_length'] == data_pos['token_length'].min()]['review'].item())  # 10\n",
    "print()\n",
    "print('Negative')\n",
    "print(data_neg[data_neg['token_length'] == data_neg['token_length'].min()]['review'].item())  # 4"
   ]
  },
  {
   "cell_type": "code",
   "execution_count": 29,
   "id": "27ec4fc8",
   "metadata": {},
   "outputs": [
    {
     "data": {
      "text/html": [
       "<div>\n",
       "<style scoped>\n",
       "    .dataframe tbody tr th:only-of-type {\n",
       "        vertical-align: middle;\n",
       "    }\n",
       "\n",
       "    .dataframe tbody tr th {\n",
       "        vertical-align: top;\n",
       "    }\n",
       "\n",
       "    .dataframe thead th {\n",
       "        text-align: right;\n",
       "    }\n",
       "</style>\n",
       "<table border=\"1\" class=\"dataframe\">\n",
       "  <thead>\n",
       "    <tr style=\"text-align: right;\">\n",
       "      <th></th>\n",
       "      <th>review_preprocessed</th>\n",
       "      <th>label</th>\n",
       "    </tr>\n",
       "  </thead>\n",
       "  <tbody>\n",
       "    <tr>\n",
       "      <th>0</th>\n",
       "      <td>one of the other reviewers has mentioned that ...</td>\n",
       "      <td>1</td>\n",
       "    </tr>\n",
       "    <tr>\n",
       "      <th>1</th>\n",
       "      <td>a wonderful little production the filming tech...</td>\n",
       "      <td>1</td>\n",
       "    </tr>\n",
       "    <tr>\n",
       "      <th>2</th>\n",
       "      <td>i thought this was a wonderful way to spend ti...</td>\n",
       "      <td>1</td>\n",
       "    </tr>\n",
       "    <tr>\n",
       "      <th>3</th>\n",
       "      <td>basically there's a family where a little boy ...</td>\n",
       "      <td>0</td>\n",
       "    </tr>\n",
       "    <tr>\n",
       "      <th>4</th>\n",
       "      <td>petter mattei's \"love in the time of money\" is...</td>\n",
       "      <td>1</td>\n",
       "    </tr>\n",
       "  </tbody>\n",
       "</table>\n",
       "</div>"
      ],
      "text/plain": [
       "                                 review_preprocessed  label\n",
       "0  one of the other reviewers has mentioned that ...      1\n",
       "1  a wonderful little production the filming tech...      1\n",
       "2  i thought this was a wonderful way to spend ti...      1\n",
       "3  basically there's a family where a little boy ...      0\n",
       "4  petter mattei's \"love in the time of money\" is...      1"
      ]
     },
     "execution_count": 29,
     "metadata": {},
     "output_type": "execute_result"
    }
   ],
   "source": [
    "# keep only processed and label columns\n",
    "data[['review_preprocessed', 'label']].to_csv('./imdb_processed.csv', index=False, header=True)\n",
    "data.head()"
   ]
  },
  {
   "cell_type": "code",
   "execution_count": 30,
   "id": "bb581093",
   "metadata": {},
   "outputs": [
    {
     "name": "stdout",
     "output_type": "stream",
     "text": [
      "one of the other reviewers has mentioned that after watching just 1 oz episode you'll be hooked they are right as this is exactly what happened with methe first thing that struck me about oz was its brutality and unflinching scenes of violence which set in right from the word go trust me this is not a show for the faint hearted or timid this show pulls no punches with regards to drugs sex or violence its is hardcore in the classic use of the wordit is called oz as that is the nickname given to the oswald maximum security state penitentary it focuses mainly on emerald city an experimental section of the prison where all the cells have glass fronts and face inwards so privacy is not high on the agenda em city is home to manyaryans muslims gangstas latinos christians italians irish and moreso scuffles death stares dodgy dealings and shady agreements are never far awayi would say the main appeal of the show is due to the fact that it goes where other shows wouldn't dare forget pretty pictures painted for mainstream audiences forget charm forget romanceoz doesn't mess around the first episode i ever saw struck me as so nasty it was surreal i couldn't say i was ready for it but as i watched more i developed a taste for oz and got accustomed to the high levels of graphic violence not just violence but injustice crooked guards who'll be sold out for a nickel inmates who'll kill on order and get away with it well mannered middle class inmates being turned into prison bitches due to their lack of street skills or prison experience watching oz you may become comfortable with what is uncomfortable viewingthats if you can get in touch with your darker side\n",
      "Label: 1\n",
      "\n",
      "\n",
      "a wonderful little production the filming technique is very unassuming very oldtimebbc fashion and gives a comforting and sometimes discomforting sense of realism to the entire piece the actors are extremely well chosen michael sheen not only \"has got all the polari\" but he has all the voices down pat too you can truly see the seamless editing guided by the references to williams' diary entries not only is it well worth the watching but it is a terrificly written and performed piece a masterful production about one of the great master's of comedy and his life the realism really comes home with the little things the fantasy of the guard which rather than use the traditional 'dream' techniques remains solid then disappears it plays on our knowledge and our senses particularly with the scenes concerning orton and halliwell and the sets particularly of their flat with halliwell's murals decorating every surface are terribly well done\n",
      "Label: 1\n",
      "\n",
      "\n"
     ]
    }
   ],
   "source": [
    "# read processed data\n",
    "data = pd.read_csv('./imdb_processed.csv')\n",
    "\n",
    "for row in data[:2].iterrows():\n",
    "    print(row[1]['review_preprocessed'])\n",
    "    print(f'Label: {row[1][\"label\"]}')    \n",
    "    print('\\n')"
   ]
  },
  {
   "cell_type": "code",
   "execution_count": 31,
   "id": "d4cc1cea",
   "metadata": {},
   "outputs": [
    {
     "data": {
      "text/plain": [
       "['one',\n",
       " 'of',\n",
       " 'the',\n",
       " 'other',\n",
       " 'reviewers',\n",
       " 'has',\n",
       " 'mentioned',\n",
       " 'that',\n",
       " 'after',\n",
       " 'watching']"
      ]
     },
     "execution_count": 31,
     "metadata": {},
     "output_type": "execute_result"
    }
   ],
   "source": [
    "\n",
    "# get all processed reviews\n",
    "reviews = data.review_preprocessed.values\n",
    "# merge into single variable, separated by whitespaces\n",
    "words = ' '.join(reviews)\n",
    "# obtain list of words\n",
    "words = words.split()\n",
    "\n",
    "# check our list\n",
    "words[:10]"
   ]
  },
  {
   "cell_type": "code",
   "execution_count": 32,
   "id": "8360c492",
   "metadata": {},
   "outputs": [
    {
     "name": "stdout",
     "output_type": "stream",
     "text": [
      "262424\n"
     ]
    }
   ],
   "source": [
    "# build vocabulary\n",
    "#convert words in the dataset to their respective integer representations for further processing in the model.\n",
    "\n",
    "counter = Counter(words)\n",
    "vocab = sorted(counter, key=counter.get, reverse=True)\n",
    "int2word = dict(enumerate(vocab, 1))\n",
    "int2word[0] = '<PAD>'\n",
    "word2int = {word: id for id, word in int2word.items()}\n",
    "print(len(word2int))   # number of unique words in the vocabulary including the <PAD> token."
   ]
  },
  {
   "cell_type": "code",
   "execution_count": 47,
   "id": "eac5ba2f",
   "metadata": {},
   "outputs": [
    {
     "name": "stdout",
     "output_type": "stream",
     "text": [
      "yosemitei\n"
     ]
    }
   ],
   "source": [
    "# example: last word\n",
    "\n",
    "last_word_key = len(word2int) - 1\n",
    "print(int2word[last_word_key])\n"
   ]
  },
  {
   "cell_type": "code",
   "execution_count": 33,
   "id": "9049f24b",
   "metadata": {},
   "outputs": [
    {
     "name": "stderr",
     "output_type": "stream",
     "text": [
      "100%|███████████████████████████████████████████████████████████████████████████| 50000/50000 [00:08<00:00, 5689.27it/s]"
     ]
    },
    {
     "name": "stdout",
     "output_type": "stream",
     "text": [
      "[27, 4, 1, 77, 2002]\n",
      "[3, 380, 113, 354, 1]\n",
      "[10, 190, 9, 12, 3]\n",
      "[673, 225, 3, 239, 112]\n",
      "[99050, 36720, 6048, 7, 1]\n"
     ]
    },
    {
     "name": "stderr",
     "output_type": "stream",
     "text": [
      "\n"
     ]
    }
   ],
   "source": [
    "# encode words\n",
    "# encode our reviews by converting each token into corresponding index in vocabulary that we just created.\n",
    "reviews_enc = [[word2int[word] for word in review.split()] for review in tqdm(reviews)]\n",
    "\n",
    "# print first-5 words of first 5 reviews\n",
    "for i in range(5):\n",
    "    print(reviews_enc[i][:5])"
   ]
  },
  {
   "cell_type": "code",
   "execution_count": 34,
   "id": "b00c370a",
   "metadata": {},
   "outputs": [
    {
     "data": {
      "text/plain": [
       "array([[   27,     4,     1,    77,  2002,    41,  1052,    11,    99,\n",
       "          143],\n",
       "       [    3,   380,   113,   354,     1,  1333,  2937,     6,    50,\n",
       "        18371],\n",
       "       [   10,   190,     9,    12,     3,   380,    96,     5,  1097,\n",
       "           59],\n",
       "       [  673,   225,     3,   239,   112,     3,   113,   454,  3737,\n",
       "         1176],\n",
       "       [99050, 36720,  6048,     7,     1,    59,     4, 15206,     6,\n",
       "            3],\n",
       "       [  235,    56,  3671,   493,    16,     3,    66,     4, 49736,\n",
       "         4209],\n",
       "       [   10,   247,    53,    35,     5,    63,     3,  9390,     4,\n",
       "            3],\n",
       "       [    9,   118,    12,    31,   481,  1419,  4028,   313,     7,\n",
       "            1],\n",
       "       [ 8268,    30,     1,  1115,   763,    40,     9,    18,    19,\n",
       "          134],\n",
       "       [   43,    21,    35,   209,  7413,  8956,  2174,    21,    75,\n",
       "           35]])"
      ]
     },
     "execution_count": 34,
     "metadata": {},
     "output_type": "execute_result"
    }
   ],
   "source": [
    "# padding sequences\n",
    "\n",
    "# As we know, the length review sometimes is different. So, first we need to define our maximum sequence length. \n",
    "#Then, for each reviews that shorter than our predefined sequence length we will add padding token. \n",
    "#Otherwise, we will trim the reviews.\n",
    "\n",
    "def pad_features(reviews, pad_id, seq_length=128):  # default 128\n",
    "    # features = np.zeros((len(reviews), seq_length), dtype=int)\n",
    "    features = np.full((len(reviews), seq_length), pad_id, dtype=int)\n",
    "\n",
    "    for i, row in enumerate(reviews):\n",
    "        # if seq_length < len(row) then review will be trimmed\n",
    "        features[i, :len(row)] = np.array(row)[:seq_length]\n",
    "\n",
    "    return features\n",
    "\n",
    "seq_length = 256\n",
    "features = pad_features(reviews_enc, pad_id=word2int['<PAD>'], seq_length=seq_length)\n",
    "\n",
    "assert len(features) == len(reviews_enc)\n",
    "assert len(features[0]) == seq_length\n",
    "\n",
    "features[:10, :10]"
   ]
  },
  {
   "cell_type": "code",
   "execution_count": 35,
   "id": "8b507354",
   "metadata": {},
   "outputs": [
    {
     "data": {
      "text/plain": [
       "array([1, 1, 1, ..., 0, 0, 0])"
      ]
     },
     "execution_count": 35,
     "metadata": {},
     "output_type": "execute_result"
    }
   ],
   "source": [
    "# get labels as numpy\n",
    "labels = imdb_df.label.to_numpy()\n",
    "labels"
   ]
  },
  {
   "cell_type": "code",
   "execution_count": 36,
   "id": "6e886850",
   "metadata": {},
   "outputs": [
    {
     "name": "stdout",
     "output_type": "stream",
     "text": [
      "Feature Shapes:\n",
      "===============\n",
      "Train set: (40000, 256)\n",
      "Validation set: (5000, 256)\n",
      "Test set: (5000, 256)\n"
     ]
    }
   ],
   "source": [
    "\n",
    "# split the data into train, validation, and test sets\n",
    "train_x, test_val_x, train_y, test_val_y = train_test_split(features, labels, test_size=0.2, random_state=0, stratify=labels)\n",
    "val_x, test_x, val_y, test_y = train_test_split(test_val_x, test_val_y, test_size=0.5, random_state=0, stratify=test_val_y)\n",
    "\n",
    "# print out the shape\n",
    "print('Feature Shapes:')\n",
    "print('===============')\n",
    "print('Train set: {}'.format(train_x.shape))\n",
    "print('Validation set: {}'.format(val_x.shape))\n",
    "print('Test set: {}'.format(test_x.shape))\n"
   ]
  },
  {
   "cell_type": "code",
   "execution_count": 37,
   "id": "2d344c70",
   "metadata": {},
   "outputs": [
    {
     "name": "stdout",
     "output_type": "stream",
     "text": [
      "20000 20000\n",
      "2500 2500\n",
      "2500 2500\n"
     ]
    }
   ],
   "source": [
    "print(len(train_y[train_y == 0]), len(train_y[train_y == 1]))  # length of train labels {0, 1}\n",
    "print(len(val_y[val_y == 0]), len(val_y[val_y == 1]))       # length of validation labels {0, 1}\n",
    "print(len(test_y[test_y == 0]), len(test_y[test_y == 1]))     # length of test labels {0, 1}"
   ]
  },
  {
   "cell_type": "code",
   "execution_count": 38,
   "id": "9e51837f",
   "metadata": {},
   "outputs": [],
   "source": [
    "\n",
    "import torch.nn as nn\n",
    "\n",
    "\n",
    "# LSTM model architecture\n",
    "\n",
    "class LSTMSentimentModel(nn.Module):\n",
    "    def __init__(self, vocab_size, output_size, hidden_size=128, embedding_size=256, n_layers=2, dropout=0.2):\n",
    "        super(LSTMSentimentModel, self).__init__()\n",
    "\n",
    "        # embedding layer is useful to map input into vector representation\n",
    "        self.embedding = nn.Embedding(vocab_size, embedding_size)\n",
    "\n",
    "        # LSTM layer preserved by PyTorch library\n",
    "        self.lstm = nn.LSTM(embedding_size, hidden_size, n_layers, dropout=dropout, batch_first=True)\n",
    "\n",
    "        # dropout layer\n",
    "        self.dropout = nn.Dropout(0.3)\n",
    "\n",
    "        # Linear layer for output\n",
    "        self.fc = nn.Linear(hidden_size, output_size)\n",
    "\n",
    "        # Sigmoid layer cz we will have binary classification\n",
    "        self.sigmoid = nn.Sigmoid()\n",
    "\n",
    "    def forward(self, x):\n",
    "        \n",
    "        # convert feature to long\n",
    "        x = x.long()\n",
    "\n",
    "        # map input to vector\n",
    "        x = self.embedding(x)\n",
    "\n",
    "        # pass forward to lstm\n",
    "        o, _ =  self.lstm(x)\n",
    "\n",
    "        # get last sequence output\n",
    "        o = o[:, -1, :]\n",
    "\n",
    "        # apply dropout and fully connected layer\n",
    "        o = self.dropout(o)\n",
    "        o = self.fc(o)\n",
    "\n",
    "        # sigmoid\n",
    "        o = self.sigmoid(o)\n",
    "\n",
    "        return o"
   ]
  },
  {
   "cell_type": "code",
   "execution_count": 39,
   "id": "b1259351",
   "metadata": {},
   "outputs": [],
   "source": [
    "# define batch size\n",
    "batch_size = 64\n",
    "\n",
    "# create tensor datasets\n",
    "trainset = TensorDataset(torch.from_numpy(train_x), torch.from_numpy(train_y))\n",
    "validset = TensorDataset(torch.from_numpy(val_x), torch.from_numpy(val_y))\n",
    "testset = TensorDataset(torch.from_numpy(test_x), torch.from_numpy(test_y))\n",
    "\n",
    "# create dataloaders\n",
    "trainloader = DataLoader(trainset, shuffle=True, batch_size=batch_size)\n",
    "valloader = DataLoader(validset, shuffle=True, batch_size=batch_size)\n",
    "testloader = DataLoader(testset, shuffle=True, batch_size=batch_size)"
   ]
  },
  {
   "cell_type": "code",
   "execution_count": 40,
   "id": "f203e17e",
   "metadata": {},
   "outputs": [
    {
     "name": "stdout",
     "output_type": "stream",
     "text": [
      "LSTMSentimentModel(\n",
      "  (embedding): Embedding(262424, 256)\n",
      "  (lstm): LSTM(256, 512, num_layers=2, batch_first=True, dropout=0.25)\n",
      "  (dropout): Dropout(p=0.3, inplace=False)\n",
      "  (fc): Linear(in_features=512, out_features=1, bias=True)\n",
      "  (sigmoid): Sigmoid()\n",
      ")\n"
     ]
    }
   ],
   "source": [
    "# model hyperparamters\n",
    "vocab_size = len(word2int)\n",
    "output_size = 1\n",
    "embedding_size = 256\n",
    "hidden_size = 512\n",
    "n_layers = 2\n",
    "dropout=0.25  \n",
    "\n",
    "# model initialization\n",
    "model = LSTMSentimentModel(vocab_size, output_size, hidden_size, embedding_size, n_layers, dropout)\n",
    "print(model)"
   ]
  },
  {
   "cell_type": "code",
   "execution_count": 32,
   "id": "2e0e482d",
   "metadata": {},
   "outputs": [],
   "source": [
    "# training config\n",
    "\n",
    "lr = 0.001\n",
    "criterion = nn.BCELoss()  # we use BCELoss cz we have binary classification problem\n",
    "optim = Adam(model.parameters(), lr=lr)\n",
    "grad_clip = 5\n",
    "epochs = 15\n",
    "print_every = 1\n",
    "history = {\n",
    "    'train_loss': [],\n",
    "    'train_acc': [],\n",
    "    'val_loss': [],\n",
    "    'val_acc': [],\n",
    "    'epochs': epochs\n",
    "}\n",
    "es_limit = 5"
   ]
  },
  {
   "cell_type": "code",
   "execution_count": 96,
   "id": "a97cf217",
   "metadata": {},
   "outputs": [
    {
     "name": "stderr",
     "output_type": "stream",
     "text": [
      "Training:   7%|██▋                                     | 1/15 [00:20<04:51, 20.84s/it, Val Loss: 0.693 | Val Acc: 0.504]"
     ]
    },
    {
     "name": "stdout",
     "output_type": "stream",
     "text": [
      "Epoch 1/15 | Train Loss: 0.694 Train Acc: 0.506 | Val Loss: 0.693 Val Acc: 0.504\n"
     ]
    },
    {
     "name": "stderr",
     "output_type": "stream",
     "text": [
      "Training:  20%|██████████▍                                         | 3/15 [00:45<03:03, 15.30s/it, Training batch 5/625]"
     ]
    },
    {
     "name": "stdout",
     "output_type": "stream",
     "text": [
      "Epoch 2/15 | Train Loss: 0.694 Train Acc: 0.500 | Val Loss: 0.693 Val Acc: 0.499\n",
      "[WARNING] Validation loss did not improved (0.693 --> 0.693)\n"
     ]
    },
    {
     "name": "stderr",
     "output_type": "stream",
     "text": [
      "Training:  27%|██████████▋                             | 4/15 [01:06<03:12, 17.53s/it, Val Loss: 0.692 | Val Acc: 0.521]"
     ]
    },
    {
     "name": "stdout",
     "output_type": "stream",
     "text": [
      "Epoch 3/15 | Train Loss: 0.693 Train Acc: 0.507 | Val Loss: 0.692 Val Acc: 0.521\n"
     ]
    },
    {
     "name": "stderr",
     "output_type": "stream",
     "text": [
      "Training:  40%|████████████████████▊                               | 6/15 [01:32<02:20, 15.65s/it, Training batch 4/625]"
     ]
    },
    {
     "name": "stdout",
     "output_type": "stream",
     "text": [
      "Epoch 4/15 | Train Loss: 0.688 Train Acc: 0.523 | Val Loss: 0.694 Val Acc: 0.510\n",
      "[WARNING] Validation loss did not improved (0.692 --> 0.694)\n"
     ]
    },
    {
     "name": "stderr",
     "output_type": "stream",
     "text": [
      "Training:  47%|████████████████████████▎                           | 7/15 [01:53<02:18, 17.37s/it, Training batch 5/625]"
     ]
    },
    {
     "name": "stdout",
     "output_type": "stream",
     "text": [
      "Epoch 5/15 | Train Loss: 0.677 Train Acc: 0.544 | Val Loss: 0.698 Val Acc: 0.523\n",
      "[WARNING] Validation loss did not improved (0.692 --> 0.698)\n"
     ]
    },
    {
     "name": "stderr",
     "output_type": "stream",
     "text": [
      "Training:  53%|█████████████████████▎                  | 8/15 [02:13<02:09, 18.51s/it, Val Loss: 0.387 | Val Acc: 0.838]"
     ]
    },
    {
     "name": "stdout",
     "output_type": "stream",
     "text": [
      "Epoch 6/15 | Train Loss: 0.500 Train Acc: 0.749 | Val Loss: 0.387 Val Acc: 0.838\n"
     ]
    },
    {
     "name": "stderr",
     "output_type": "stream",
     "text": [
      "Training:  67%|██████████████████████████             | 10/15 [02:39<01:21, 16.22s/it, Val Loss: 0.356 | Val Acc: 0.855]"
     ]
    },
    {
     "name": "stdout",
     "output_type": "stream",
     "text": [
      "Epoch 7/15 | Train Loss: 0.296 Train Acc: 0.881 | Val Loss: 0.356 Val Acc: 0.855\n"
     ]
    },
    {
     "name": "stderr",
     "output_type": "stream",
     "text": [
      "Training:  73%|█████████████████████████████████████▍             | 11/15 [03:04<01:15, 18.93s/it, Training batch 4/625]"
     ]
    },
    {
     "name": "stdout",
     "output_type": "stream",
     "text": [
      "Epoch 8/15 | Train Loss: 0.171 Train Acc: 0.940 | Val Loss: 0.410 Val Acc: 0.858\n",
      "[WARNING] Validation loss did not improved (0.356 --> 0.410)\n"
     ]
    },
    {
     "name": "stderr",
     "output_type": "stream",
     "text": [
      "Training:  80%|████████████████████████████████████████▊          | 12/15 [03:25<00:58, 19.64s/it, Training batch 5/625]"
     ]
    },
    {
     "name": "stdout",
     "output_type": "stream",
     "text": [
      "Epoch 9/15 | Train Loss: 0.105 Train Acc: 0.966 | Val Loss: 0.426 Val Acc: 0.857\n",
      "[WARNING] Validation loss did not improved (0.356 --> 0.426)\n"
     ]
    },
    {
     "name": "stderr",
     "output_type": "stream",
     "text": [
      "Training:  93%|███████████████████████████████████████████████▌   | 14/15 [03:46<00:20, 20.01s/it, Training batch 4/625]"
     ]
    },
    {
     "name": "stdout",
     "output_type": "stream",
     "text": [
      "Epoch 10/15 | Train Loss: 0.059 Train Acc: 0.983 | Val Loss: 0.463 Val Acc: 0.860\n",
      "[WARNING] Validation loss did not improved (0.356 --> 0.463)\n"
     ]
    },
    {
     "name": "stderr",
     "output_type": "stream",
     "text": [
      "Training: 100%|███████████████████████████████████████████████████| 15/15 [04:07<00:00, 15.64s/it, Training batch 4/625]"
     ]
    },
    {
     "name": "stdout",
     "output_type": "stream",
     "text": [
      "Epoch 11/15 | Train Loss: 0.039 Train Acc: 0.989 | Val Loss: 0.605 Val Acc: 0.863\n",
      "[WARNING] Validation loss did not improved (0.356 --> 0.605)\n"
     ]
    },
    {
     "name": "stderr",
     "output_type": "stream",
     "text": [
      "Training:  73%|████████████████████████████▌          | 11/15 [04:28<01:37, 24.42s/it, Val Loss: 0.592 | Val Acc: 0.852]"
     ]
    },
    {
     "name": "stdout",
     "output_type": "stream",
     "text": [
      "Epoch 12/15 | Train Loss: 0.031 Train Acc: 0.992 | Val Loss: 0.592 Val Acc: 0.852\n",
      "[WARNING] Validation loss did not improved (0.356 --> 0.592)\n",
      "Early stopped at Epoch-12\n"
     ]
    },
    {
     "name": "stderr",
     "output_type": "stream",
     "text": [
      "\n"
     ]
    }
   ],
   "source": [
    "# train loop\n",
    "\n",
    "device = torch.device('cuda:7')\n",
    "model = model.to(device)\n",
    "\n",
    "epochloop = tqdm(range(epochs), position=0, desc='Training', leave=True)\n",
    "\n",
    "# early stop trigger\n",
    "es_trigger = 0\n",
    "val_loss_min = torch.inf\n",
    "\n",
    "for e in epochloop:\n",
    "\n",
    "    ## training mode ##\n",
    "\n",
    "    model.train()\n",
    "\n",
    "    train_loss = 0\n",
    "    train_acc = 0\n",
    "\n",
    "    for id, (feature, target) in enumerate(trainloader):\n",
    "        # add epoch meta info\n",
    "        epochloop.set_postfix_str(f'Training batch {id}/{len(trainloader)}')\n",
    "\n",
    "        # move to device\n",
    "        feature, target = feature.to(device), target.to(device)\n",
    "\n",
    "        # reset optimizer\n",
    "        optim.zero_grad()\n",
    "\n",
    "        # forward pass\n",
    "        out = model(feature)\n",
    "\n",
    "        # acc\n",
    "        predicted = torch.tensor([1 if i == True else 0 for i in out > 0.5], device=device)\n",
    "        equals = predicted == target\n",
    "        acc = torch.mean(equals.type(torch.FloatTensor))\n",
    "        train_acc += acc.item()\n",
    "\n",
    "        # loss\n",
    "        loss = criterion(out.squeeze(), target.float())\n",
    "        train_loss += loss.item()\n",
    "        loss.backward()\n",
    "\n",
    "        # clip grad\n",
    "        nn.utils.clip_grad_norm_(model.parameters(), grad_clip)\n",
    "\n",
    "        # update optimizer\n",
    "        optim.step()\n",
    "\n",
    "        # free some memory\n",
    "        del feature, target, predicted\n",
    "\n",
    "    history['train_loss'].append(train_loss / len(trainloader))\n",
    "    history['train_acc'].append(train_acc / len(trainloader))\n",
    "\n",
    "  \n",
    "    ## validation mode ##\n",
    "    \n",
    "    model.eval()\n",
    "\n",
    "    val_loss = 0\n",
    "    val_acc = 0\n",
    "\n",
    "    with torch.no_grad():\n",
    "        for id, (feature, target) in enumerate(valloader):\n",
    "            # add epoch meta info\n",
    "            epochloop.set_postfix_str(f'Validation batch {id}/{len(valloader)}')\n",
    "            \n",
    "            # move to device\n",
    "            feature, target = feature.to(device), target.to(device)\n",
    "\n",
    "            # forward pass\n",
    "            out = model(feature)\n",
    "\n",
    "            # acc\n",
    "            predicted = torch.tensor([1 if i == True else 0 for i in out > 0.5], device=device)\n",
    "            equals = predicted == target\n",
    "            acc = torch.mean(equals.type(torch.FloatTensor))\n",
    "            val_acc += acc.item()\n",
    "\n",
    "            # loss\n",
    "            loss = criterion(out.squeeze(), target.float())\n",
    "            val_loss += loss.item()\n",
    "\n",
    "            # free some memory\n",
    "            del feature, target, predicted\n",
    "\n",
    "        history['val_loss'].append(val_loss / len(valloader))\n",
    "        history['val_acc'].append(val_acc / len(valloader))\n",
    "\n",
    "    # reset model mode\n",
    "    model.train()\n",
    "\n",
    "    # add epoch meta info\n",
    "    epochloop.set_postfix_str(f'Val Loss: {val_loss / len(valloader):.3f} | Val Acc: {val_acc / len(valloader):.3f}')\n",
    "\n",
    "    # print epoch\n",
    "    if (e+1) % print_every == 0:\n",
    "        epochloop.write(f'Epoch {e+1}/{epochs} | Train Loss: {train_loss / len(trainloader):.3f} Train Acc: {train_acc / len(trainloader):.3f} | Val Loss: {val_loss / len(valloader):.3f} Val Acc: {val_acc / len(valloader):.3f}')\n",
    "        epochloop.update()\n",
    "\n",
    "    # save model if validation loss decrease\n",
    "    if val_loss / len(valloader) <= val_loss_min:\n",
    "        torch.save(model.state_dict(), './sentiment_lstm.pt')\n",
    "        val_loss_min = val_loss / len(valloader)\n",
    "        es_trigger = 0\n",
    "    else:\n",
    "        epochloop.write(f'[WARNING] Validation loss did not improved ({val_loss_min:.3f} --> {val_loss / len(valloader):.3f})')\n",
    "        es_trigger += 1\n",
    "\n",
    "    # force early stop\n",
    "    if es_trigger >= es_limit:\n",
    "        epochloop.write(f'Early stopped at Epoch-{e+1}')\n",
    "        # update epochs history\n",
    "        history['epochs'] = e+1\n",
    "        break"
   ]
  },
  {
   "cell_type": "code",
   "execution_count": 97,
   "id": "7a27067e",
   "metadata": {},
   "outputs": [
    {
     "name": "stderr",
     "output_type": "stream",
     "text": [
      "Inference: 100%|████████████████████████████████████████████████████████████████████████| 79/79 [00:00<00:00, 82.14it/s]"
     ]
    },
    {
     "name": "stdout",
     "output_type": "stream",
     "text": [
      "Test Accuracy: 0.8665, Test Loss: 0.5448\n"
     ]
    },
    {
     "name": "stderr",
     "output_type": "stream",
     "text": [
      "\n"
     ]
    }
   ],
   "source": [
    "# test loop\n",
    "model.eval()\n",
    "\n",
    "# metrics\n",
    "test_loss = 0\n",
    "test_acc = 0\n",
    "\n",
    "all_target = []\n",
    "all_predicted = []\n",
    "\n",
    "testloop = tqdm(testloader, leave=True, desc='Inference')\n",
    "with torch.no_grad():\n",
    "    for feature, target in testloop:\n",
    "        feature, target = feature.to(device), target.to(device)\n",
    "\n",
    "        out = model(feature)\n",
    "        \n",
    "        predicted = torch.tensor([1 if i == True else 0 for i in out > 0.5], device=device)\n",
    "        equals = predicted == target\n",
    "        acc = torch.mean(equals.type(torch.FloatTensor))\n",
    "        test_acc += acc.item()\n",
    "\n",
    "        loss = criterion(out.squeeze(), target.float())\n",
    "        test_loss += loss.item()\n",
    "\n",
    "        all_target.extend(target.cpu().numpy())\n",
    "        all_predicted.extend(predicted.cpu().numpy())\n",
    "\n",
    "    print(f'Test Accuracy: {test_acc/len(testloader):.4f}, Test Loss: {test_loss/len(testloader):.4f}')"
   ]
  },
  {
   "cell_type": "code",
   "execution_count": 98,
   "id": "c1bc15be",
   "metadata": {
    "scrolled": true
   },
   "outputs": [
    {
     "name": "stdout",
     "output_type": "stream",
     "text": [
      "              precision    recall  f1-score   support\n",
      "\n",
      "           0       0.82      0.90      0.86      2286\n",
      "           1       0.91      0.84      0.87      2714\n",
      "\n",
      "    accuracy                           0.87      5000\n",
      "   macro avg       0.87      0.87      0.87      5000\n",
      "weighted avg       0.87      0.87      0.87      5000\n",
      "\n"
     ]
    }
   ],
   "source": [
    "print(classification_report(all_predicted, all_target))"
   ]
  },
  {
   "cell_type": "code",
   "execution_count": 99,
   "id": "fbe90327",
   "metadata": {},
   "outputs": [
    {
     "data": {
      "image/png": "[encoded data removed]",
      "text/plain": [
       "<Figure size 500x400 with 2 Axes>"
      ]
     },
     "metadata": {},
     "output_type": "display_data"
    }
   ],
   "source": [
    "cm = confusion_matrix(all_predicted, all_target)\n",
    "plt.figure(figsize=(5,4))\n",
    "sns.heatmap(cm, annot=True, fmt='g')\n",
    "plt.title('Confusion Matrix')\n",
    "plt.show()"
   ]
  },
  {
   "cell_type": "markdown",
   "id": "305a1736",
   "metadata": {},
   "source": [
    "## (c) Comparing Results of 4 models through graphs\n",
    "### Self-supervised Representation Learning vs Supervised Learning Models"
   ]
  },
  {
   "cell_type": "code",
   "execution_count": 93,
   "id": "7ed47c67",
   "metadata": {},
   "outputs": [
    {
     "data": {
      "image/png": "[encoded data removed]",
      "text/plain": [
       "<Figure size 640x480 with 1 Axes>"
      ]
     },
     "metadata": {},
     "output_type": "display_data"
    },
    {
     "data": {
      "image/png": "[encoded data removed]",
      "text/plain": [
       "<Figure size 640x480 with 1 Axes>"
      ]
     },
     "metadata": {},
     "output_type": "display_data"
    },
    {
     "data": {
      "image/png": "[encoded data removed]",
      "text/plain": [
       "<Figure size 640x480 with 1 Axes>"
      ]
     },
     "metadata": {},
     "output_type": "display_data"
    }
   ],
   "source": [
    "import matplotlib.pyplot as plt\n",
    "import numpy as np\n",
    "\n",
    "# data for the first split\n",
    "data1 = {\n",
    "    'BERT': {'Test accuracy': 0.8970, 'Test loss': 0.4507},\n",
    "    'Naive Bayes': {'Test accuracy': 0.8515, 'Test loss': 0.5190},\n",
    "    'Linear SVC': {'Test accuracy': 0.8657, 'Test loss': 0.4327},\n",
    "    'LSTM': {'Test accuracy': 0.5123, 'Test loss': 0.9651}\n",
    "}\n",
    "\n",
    "# data for the second split\n",
    "data2 = {\n",
    "    'BERT': {'Test accuracy': 0.9211, 'Test loss': 0.3738},\n",
    "    'Naive Bayes': {'Test accuracy': 0.8727, 'Test loss': 0.4467},\n",
    "    'Linear SVC': {'Test accuracy': 0.8931, 'Test loss': 0.4152},\n",
    "    'LSTM': {'Test accuracy': 0.8305, 'Test loss': 0.7679}\n",
    "}\n",
    "\n",
    "# data for the third split\n",
    "data3 = {\n",
    "    'BERT': {'Test accuracy': 0.9296, 'Test loss': 0.3590},\n",
    "    'Naive Bayes': {'Test accuracy': 0.8878, 'Test loss': 0.4064},\n",
    "    'Linear SVC': {'Test accuracy': 0.9086, 'Test loss': 0.3382},\n",
    "    'LSTM': {'Test accuracy': 0.8687, 'Test loss': 0.6225}\n",
    "}\n",
    "\n",
    "# function to plot a bar graph given the data and title\n",
    "def plot_bar_graph(data, title):\n",
    "    models = list(data.keys())\n",
    "    accuracy = [data[model]['Test accuracy'] for model in models]\n",
    "    loss = [data[model]['Test loss'] for model in models]\n",
    "    x = np.arange(len(models))\n",
    "\n",
    "    fig, ax = plt.subplots()\n",
    "    rects1 = ax.bar(x - 0.2, accuracy, 0.4, label='Accuracy')\n",
    "    rects2 = ax.bar(x + 0.2, loss, 0.4, label='Loss')\n",
    "\n",
    "    for rect in rects1:\n",
    "        height = rect.get_height()\n",
    "        ax.annotate('{:.4f}'.format(height),\n",
    "                    xy=(rect.get_x() + rect.get_width() / 2, height),\n",
    "                    xytext=(0, 3),  # 3 points vertical offset\n",
    "                    textcoords=\"offset points\",\n",
    "                    ha='center', va='bottom')\n",
    "    for rect in rects2:\n",
    "        height = rect.get_height()\n",
    "        ax.annotate('{:.4f}'.format(height),\n",
    "                    xy=(rect.get_x() + rect.get_width() / 2, height),\n",
    "                    xytext=(0, 3),  # 3 points vertical offset\n",
    "                    textcoords=\"offset points\",\n",
    "                    ha='center', va='bottom')\n",
    "                    \n",
    "    ax.set_ylabel('Scores')\n",
    "    ax.set_xticks(x)\n",
    "    ax.set_xticklabels(models)\n",
    "    ax.legend(loc='center', bbox_to_anchor=(0.5, 1.2), ncol=2)\n",
    "    ax.set_ylim([0, 1])\n",
    "    ax.set_title(title)\n",
    "    fig.tight_layout()\n",
    "\n",
    "#plot the three bar graphs\n",
    "plot_bar_graph(data1, '10% train, 10% val, 80% test')\n",
    "plot_bar_graph(data2, '40% train, 10% val, 50% test')\n",
    "plot_bar_graph(data3, '80% train, 10% val, 10% test')\n",
    "\n",
    "#display the plots\n",
    "plt.show()\n"
   ]
  },
  {
   "cell_type": "code",
   "execution_count": 102,
   "id": "c620d17a",
   "metadata": {},
   "outputs": [
    {
     "data": {
      "image/png": "[encoded data removed]",
      "text/plain": [
       "<Figure size 1000x600 with 1 Axes>"
      ]
     },
     "metadata": {},
     "output_type": "display_data"
    }
   ],
   "source": [
    "\n",
    "\n",
    "# Test accuracies for each model and split\n",
    "split1 = ['10-10-80', 0.8970, 0.8515, 0.8657, 0.5123]\n",
    "split2 = ['40-10-50', 0.9211, 0.8727, 0.8931, 0.8305]\n",
    "split3 = ['80-10-10', 0.9296, 0.8878, 0.9086, 0.8687]\n",
    "\n",
    "# Set up the data and labels for the bar graph\n",
    "splits = [split1, split2, split3]\n",
    "models = ['BERT', 'Naive Bayes', 'Linear SVC', 'LSTM']\n",
    "colors = ['blue', 'orange', 'green', 'red']\n",
    "\n",
    "# Create the bar graph\n",
    "fig, ax = plt.subplots(figsize=(10, 6))\n",
    "width = 0.2\n",
    "for i in range(len(splits)):\n",
    "    x = [j+(i*width) for j in range(len(models))]\n",
    "    for j in range(len(models)):\n",
    "        ax.bar(x[j], splits[i][j+1], width, color=colors[j])\n",
    "\n",
    "# Add labels and legend\n",
    "ax.set_ylabel('Test Accuracy')\n",
    "ax.set_xlabel('Train-Val-Test Splits')\n",
    "ax.set_title('Comparison of Test Accuracies for Four Models')\n",
    "\n",
    "# Define custom x-axis labels\n",
    "custom_xticklabels = ['Split 1 (10-10-80)', 'Split 2 (40-10-50)', 'Split 3 (80-10-10)']\n",
    "ax.set_xticks([0.5, 1.5, 2.5])\n",
    "ax.set_xticklabels(custom_xticklabels)\n",
    "\n",
    "ax.legend(models)\n",
    "\n",
    "plt.show()\n"
   ]
  },
  {
   "cell_type": "code",
   "execution_count": null,
   "id": "51942e09",
   "metadata": {},
   "outputs": [],
   "source": []
  }
 ],
 "metadata": {
  "kernelspec": {
   "display_name": "Python 3 (ipykernel)",
   "language": "python",
   "name": "python3"
  },
  "language_info": {
   "codemirror_mode": {
    "name": "ipython",
    "version": 3
   },
   "file_extension": ".py",
   "mimetype": "text/x-python",
   "name": "python",
   "nbconvert_exporter": "python",
   "pygments_lexer": "ipython3",
   "version": "3.9.16"
  }
 },
 "nbformat": 4,
 "nbformat_minor": 5
}
